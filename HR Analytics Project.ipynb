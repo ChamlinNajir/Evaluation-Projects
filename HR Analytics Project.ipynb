{
 "cells": [
  {
   "cell_type": "markdown",
   "id": "febf87b3",
   "metadata": {},
   "source": [
    "# Problem Statement :"
   ]
  },
  {
   "cell_type": "markdown",
   "id": "06661770",
   "metadata": {},
   "source": [
    "Human resource analytics (HR analytics) is an area in the field of analytics that refers to applying analytic processes to the human resource department of an organization in the hope of improving employee performance and therefore getting a better return on investment.\n",
    "It aims to provide insight into each process by gathering data and then using it to make relevant decisions about how to improve these processes.\n",
    "\n",
    "Attrition in human resources refers to the gradual loss of employees overtime. In general, relatively high attrition is problematic for companies.\n",
    "\n",
    "How does Attrition affect companies?\n",
    "A major problem in high employee attrition is its cost to an organization. Job postings, hiring processes, paperwork, and new hire training are some of the common expenses of losing employees and replacing them. Additionally, regular employee turnover prohibits your organization from increasing its collective knowledge base and experience over time. This is especially concerning if your business is customer-facing, as customers often prefer to interact with familiar people. Errors and issues are more likely if you constantly have new workers.\n",
    "\n",
    "How does HR Analytics help in analyzing attrition?\n",
    "For this we will write the code and try to understand the process step by step."
   ]
  },
  {
   "cell_type": "code",
   "execution_count": 1,
   "id": "9420a7ac",
   "metadata": {},
   "outputs": [],
   "source": [
    "# Importing the first required libraries\n",
    "\n",
    "import pandas as pd\n",
    "import warnings\n",
    "warnings.filterwarnings('ignore')"
   ]
  },
  {
   "cell_type": "markdown",
   "id": "c31af052",
   "metadata": {},
   "source": [
    "And rest of the libraries will be imported according to our requirements as we proceed further into the project"
   ]
  },
  {
   "cell_type": "code",
   "execution_count": 2,
   "id": "c51123e2",
   "metadata": {},
   "outputs": [
    {
     "data": {
      "text/html": [
       "<div>\n",
       "<style scoped>\n",
       "    .dataframe tbody tr th:only-of-type {\n",
       "        vertical-align: middle;\n",
       "    }\n",
       "\n",
       "    .dataframe tbody tr th {\n",
       "        vertical-align: top;\n",
       "    }\n",
       "\n",
       "    .dataframe thead th {\n",
       "        text-align: right;\n",
       "    }\n",
       "</style>\n",
       "<table border=\"1\" class=\"dataframe\">\n",
       "  <thead>\n",
       "    <tr style=\"text-align: right;\">\n",
       "      <th></th>\n",
       "      <th>Age</th>\n",
       "      <th>Attrition</th>\n",
       "      <th>BusinessTravel</th>\n",
       "      <th>DailyRate</th>\n",
       "      <th>Department</th>\n",
       "      <th>DistanceFromHome</th>\n",
       "      <th>Education</th>\n",
       "      <th>EducationField</th>\n",
       "      <th>EmployeeCount</th>\n",
       "      <th>EmployeeNumber</th>\n",
       "      <th>...</th>\n",
       "      <th>RelationshipSatisfaction</th>\n",
       "      <th>StandardHours</th>\n",
       "      <th>StockOptionLevel</th>\n",
       "      <th>TotalWorkingYears</th>\n",
       "      <th>TrainingTimesLastYear</th>\n",
       "      <th>WorkLifeBalance</th>\n",
       "      <th>YearsAtCompany</th>\n",
       "      <th>YearsInCurrentRole</th>\n",
       "      <th>YearsSinceLastPromotion</th>\n",
       "      <th>YearsWithCurrManager</th>\n",
       "    </tr>\n",
       "  </thead>\n",
       "  <tbody>\n",
       "    <tr>\n",
       "      <th>0</th>\n",
       "      <td>41</td>\n",
       "      <td>Yes</td>\n",
       "      <td>Travel_Rarely</td>\n",
       "      <td>1102</td>\n",
       "      <td>Sales</td>\n",
       "      <td>1</td>\n",
       "      <td>2</td>\n",
       "      <td>Life Sciences</td>\n",
       "      <td>1</td>\n",
       "      <td>1</td>\n",
       "      <td>...</td>\n",
       "      <td>1</td>\n",
       "      <td>80</td>\n",
       "      <td>0</td>\n",
       "      <td>8</td>\n",
       "      <td>0</td>\n",
       "      <td>1</td>\n",
       "      <td>6</td>\n",
       "      <td>4</td>\n",
       "      <td>0</td>\n",
       "      <td>5</td>\n",
       "    </tr>\n",
       "    <tr>\n",
       "      <th>1</th>\n",
       "      <td>49</td>\n",
       "      <td>No</td>\n",
       "      <td>Travel_Frequently</td>\n",
       "      <td>279</td>\n",
       "      <td>Research &amp; Development</td>\n",
       "      <td>8</td>\n",
       "      <td>1</td>\n",
       "      <td>Life Sciences</td>\n",
       "      <td>1</td>\n",
       "      <td>2</td>\n",
       "      <td>...</td>\n",
       "      <td>4</td>\n",
       "      <td>80</td>\n",
       "      <td>1</td>\n",
       "      <td>10</td>\n",
       "      <td>3</td>\n",
       "      <td>3</td>\n",
       "      <td>10</td>\n",
       "      <td>7</td>\n",
       "      <td>1</td>\n",
       "      <td>7</td>\n",
       "    </tr>\n",
       "    <tr>\n",
       "      <th>2</th>\n",
       "      <td>37</td>\n",
       "      <td>Yes</td>\n",
       "      <td>Travel_Rarely</td>\n",
       "      <td>1373</td>\n",
       "      <td>Research &amp; Development</td>\n",
       "      <td>2</td>\n",
       "      <td>2</td>\n",
       "      <td>Other</td>\n",
       "      <td>1</td>\n",
       "      <td>4</td>\n",
       "      <td>...</td>\n",
       "      <td>2</td>\n",
       "      <td>80</td>\n",
       "      <td>0</td>\n",
       "      <td>7</td>\n",
       "      <td>3</td>\n",
       "      <td>3</td>\n",
       "      <td>0</td>\n",
       "      <td>0</td>\n",
       "      <td>0</td>\n",
       "      <td>0</td>\n",
       "    </tr>\n",
       "    <tr>\n",
       "      <th>3</th>\n",
       "      <td>33</td>\n",
       "      <td>No</td>\n",
       "      <td>Travel_Frequently</td>\n",
       "      <td>1392</td>\n",
       "      <td>Research &amp; Development</td>\n",
       "      <td>3</td>\n",
       "      <td>4</td>\n",
       "      <td>Life Sciences</td>\n",
       "      <td>1</td>\n",
       "      <td>5</td>\n",
       "      <td>...</td>\n",
       "      <td>3</td>\n",
       "      <td>80</td>\n",
       "      <td>0</td>\n",
       "      <td>8</td>\n",
       "      <td>3</td>\n",
       "      <td>3</td>\n",
       "      <td>8</td>\n",
       "      <td>7</td>\n",
       "      <td>3</td>\n",
       "      <td>0</td>\n",
       "    </tr>\n",
       "    <tr>\n",
       "      <th>4</th>\n",
       "      <td>27</td>\n",
       "      <td>No</td>\n",
       "      <td>Travel_Rarely</td>\n",
       "      <td>591</td>\n",
       "      <td>Research &amp; Development</td>\n",
       "      <td>2</td>\n",
       "      <td>1</td>\n",
       "      <td>Medical</td>\n",
       "      <td>1</td>\n",
       "      <td>7</td>\n",
       "      <td>...</td>\n",
       "      <td>4</td>\n",
       "      <td>80</td>\n",
       "      <td>1</td>\n",
       "      <td>6</td>\n",
       "      <td>3</td>\n",
       "      <td>3</td>\n",
       "      <td>2</td>\n",
       "      <td>2</td>\n",
       "      <td>2</td>\n",
       "      <td>2</td>\n",
       "    </tr>\n",
       "    <tr>\n",
       "      <th>5</th>\n",
       "      <td>32</td>\n",
       "      <td>No</td>\n",
       "      <td>Travel_Frequently</td>\n",
       "      <td>1005</td>\n",
       "      <td>Research &amp; Development</td>\n",
       "      <td>2</td>\n",
       "      <td>2</td>\n",
       "      <td>Life Sciences</td>\n",
       "      <td>1</td>\n",
       "      <td>8</td>\n",
       "      <td>...</td>\n",
       "      <td>3</td>\n",
       "      <td>80</td>\n",
       "      <td>0</td>\n",
       "      <td>8</td>\n",
       "      <td>2</td>\n",
       "      <td>2</td>\n",
       "      <td>7</td>\n",
       "      <td>7</td>\n",
       "      <td>3</td>\n",
       "      <td>6</td>\n",
       "    </tr>\n",
       "    <tr>\n",
       "      <th>6</th>\n",
       "      <td>59</td>\n",
       "      <td>No</td>\n",
       "      <td>Travel_Rarely</td>\n",
       "      <td>1324</td>\n",
       "      <td>Research &amp; Development</td>\n",
       "      <td>3</td>\n",
       "      <td>3</td>\n",
       "      <td>Medical</td>\n",
       "      <td>1</td>\n",
       "      <td>10</td>\n",
       "      <td>...</td>\n",
       "      <td>1</td>\n",
       "      <td>80</td>\n",
       "      <td>3</td>\n",
       "      <td>12</td>\n",
       "      <td>3</td>\n",
       "      <td>2</td>\n",
       "      <td>1</td>\n",
       "      <td>0</td>\n",
       "      <td>0</td>\n",
       "      <td>0</td>\n",
       "    </tr>\n",
       "    <tr>\n",
       "      <th>7</th>\n",
       "      <td>30</td>\n",
       "      <td>No</td>\n",
       "      <td>Travel_Rarely</td>\n",
       "      <td>1358</td>\n",
       "      <td>Research &amp; Development</td>\n",
       "      <td>24</td>\n",
       "      <td>1</td>\n",
       "      <td>Life Sciences</td>\n",
       "      <td>1</td>\n",
       "      <td>11</td>\n",
       "      <td>...</td>\n",
       "      <td>2</td>\n",
       "      <td>80</td>\n",
       "      <td>1</td>\n",
       "      <td>1</td>\n",
       "      <td>2</td>\n",
       "      <td>3</td>\n",
       "      <td>1</td>\n",
       "      <td>0</td>\n",
       "      <td>0</td>\n",
       "      <td>0</td>\n",
       "    </tr>\n",
       "    <tr>\n",
       "      <th>8</th>\n",
       "      <td>38</td>\n",
       "      <td>No</td>\n",
       "      <td>Travel_Frequently</td>\n",
       "      <td>216</td>\n",
       "      <td>Research &amp; Development</td>\n",
       "      <td>23</td>\n",
       "      <td>3</td>\n",
       "      <td>Life Sciences</td>\n",
       "      <td>1</td>\n",
       "      <td>12</td>\n",
       "      <td>...</td>\n",
       "      <td>2</td>\n",
       "      <td>80</td>\n",
       "      <td>0</td>\n",
       "      <td>10</td>\n",
       "      <td>2</td>\n",
       "      <td>3</td>\n",
       "      <td>9</td>\n",
       "      <td>7</td>\n",
       "      <td>1</td>\n",
       "      <td>8</td>\n",
       "    </tr>\n",
       "    <tr>\n",
       "      <th>9</th>\n",
       "      <td>36</td>\n",
       "      <td>No</td>\n",
       "      <td>Travel_Rarely</td>\n",
       "      <td>1299</td>\n",
       "      <td>Research &amp; Development</td>\n",
       "      <td>27</td>\n",
       "      <td>3</td>\n",
       "      <td>Medical</td>\n",
       "      <td>1</td>\n",
       "      <td>13</td>\n",
       "      <td>...</td>\n",
       "      <td>2</td>\n",
       "      <td>80</td>\n",
       "      <td>2</td>\n",
       "      <td>17</td>\n",
       "      <td>3</td>\n",
       "      <td>2</td>\n",
       "      <td>7</td>\n",
       "      <td>7</td>\n",
       "      <td>7</td>\n",
       "      <td>7</td>\n",
       "    </tr>\n",
       "    <tr>\n",
       "      <th>10</th>\n",
       "      <td>35</td>\n",
       "      <td>No</td>\n",
       "      <td>Travel_Rarely</td>\n",
       "      <td>809</td>\n",
       "      <td>Research &amp; Development</td>\n",
       "      <td>16</td>\n",
       "      <td>3</td>\n",
       "      <td>Medical</td>\n",
       "      <td>1</td>\n",
       "      <td>14</td>\n",
       "      <td>...</td>\n",
       "      <td>3</td>\n",
       "      <td>80</td>\n",
       "      <td>1</td>\n",
       "      <td>6</td>\n",
       "      <td>5</td>\n",
       "      <td>3</td>\n",
       "      <td>5</td>\n",
       "      <td>4</td>\n",
       "      <td>0</td>\n",
       "      <td>3</td>\n",
       "    </tr>\n",
       "    <tr>\n",
       "      <th>11</th>\n",
       "      <td>29</td>\n",
       "      <td>No</td>\n",
       "      <td>Travel_Rarely</td>\n",
       "      <td>153</td>\n",
       "      <td>Research &amp; Development</td>\n",
       "      <td>15</td>\n",
       "      <td>2</td>\n",
       "      <td>Life Sciences</td>\n",
       "      <td>1</td>\n",
       "      <td>15</td>\n",
       "      <td>...</td>\n",
       "      <td>4</td>\n",
       "      <td>80</td>\n",
       "      <td>0</td>\n",
       "      <td>10</td>\n",
       "      <td>3</td>\n",
       "      <td>3</td>\n",
       "      <td>9</td>\n",
       "      <td>5</td>\n",
       "      <td>0</td>\n",
       "      <td>8</td>\n",
       "    </tr>\n",
       "    <tr>\n",
       "      <th>12</th>\n",
       "      <td>31</td>\n",
       "      <td>No</td>\n",
       "      <td>Travel_Rarely</td>\n",
       "      <td>670</td>\n",
       "      <td>Research &amp; Development</td>\n",
       "      <td>26</td>\n",
       "      <td>1</td>\n",
       "      <td>Life Sciences</td>\n",
       "      <td>1</td>\n",
       "      <td>16</td>\n",
       "      <td>...</td>\n",
       "      <td>4</td>\n",
       "      <td>80</td>\n",
       "      <td>1</td>\n",
       "      <td>5</td>\n",
       "      <td>1</td>\n",
       "      <td>2</td>\n",
       "      <td>5</td>\n",
       "      <td>2</td>\n",
       "      <td>4</td>\n",
       "      <td>3</td>\n",
       "    </tr>\n",
       "    <tr>\n",
       "      <th>13</th>\n",
       "      <td>34</td>\n",
       "      <td>No</td>\n",
       "      <td>Travel_Rarely</td>\n",
       "      <td>1346</td>\n",
       "      <td>Research &amp; Development</td>\n",
       "      <td>19</td>\n",
       "      <td>2</td>\n",
       "      <td>Medical</td>\n",
       "      <td>1</td>\n",
       "      <td>18</td>\n",
       "      <td>...</td>\n",
       "      <td>3</td>\n",
       "      <td>80</td>\n",
       "      <td>1</td>\n",
       "      <td>3</td>\n",
       "      <td>2</td>\n",
       "      <td>3</td>\n",
       "      <td>2</td>\n",
       "      <td>2</td>\n",
       "      <td>1</td>\n",
       "      <td>2</td>\n",
       "    </tr>\n",
       "    <tr>\n",
       "      <th>14</th>\n",
       "      <td>28</td>\n",
       "      <td>Yes</td>\n",
       "      <td>Travel_Rarely</td>\n",
       "      <td>103</td>\n",
       "      <td>Research &amp; Development</td>\n",
       "      <td>24</td>\n",
       "      <td>3</td>\n",
       "      <td>Life Sciences</td>\n",
       "      <td>1</td>\n",
       "      <td>19</td>\n",
       "      <td>...</td>\n",
       "      <td>2</td>\n",
       "      <td>80</td>\n",
       "      <td>0</td>\n",
       "      <td>6</td>\n",
       "      <td>4</td>\n",
       "      <td>3</td>\n",
       "      <td>4</td>\n",
       "      <td>2</td>\n",
       "      <td>0</td>\n",
       "      <td>3</td>\n",
       "    </tr>\n",
       "  </tbody>\n",
       "</table>\n",
       "<p>15 rows × 35 columns</p>\n",
       "</div>"
      ],
      "text/plain": [
       "    Age Attrition     BusinessTravel  DailyRate              Department  \\\n",
       "0    41       Yes      Travel_Rarely       1102                   Sales   \n",
       "1    49        No  Travel_Frequently        279  Research & Development   \n",
       "2    37       Yes      Travel_Rarely       1373  Research & Development   \n",
       "3    33        No  Travel_Frequently       1392  Research & Development   \n",
       "4    27        No      Travel_Rarely        591  Research & Development   \n",
       "5    32        No  Travel_Frequently       1005  Research & Development   \n",
       "6    59        No      Travel_Rarely       1324  Research & Development   \n",
       "7    30        No      Travel_Rarely       1358  Research & Development   \n",
       "8    38        No  Travel_Frequently        216  Research & Development   \n",
       "9    36        No      Travel_Rarely       1299  Research & Development   \n",
       "10   35        No      Travel_Rarely        809  Research & Development   \n",
       "11   29        No      Travel_Rarely        153  Research & Development   \n",
       "12   31        No      Travel_Rarely        670  Research & Development   \n",
       "13   34        No      Travel_Rarely       1346  Research & Development   \n",
       "14   28       Yes      Travel_Rarely        103  Research & Development   \n",
       "\n",
       "    DistanceFromHome  Education EducationField  EmployeeCount  EmployeeNumber  \\\n",
       "0                  1          2  Life Sciences              1               1   \n",
       "1                  8          1  Life Sciences              1               2   \n",
       "2                  2          2          Other              1               4   \n",
       "3                  3          4  Life Sciences              1               5   \n",
       "4                  2          1        Medical              1               7   \n",
       "5                  2          2  Life Sciences              1               8   \n",
       "6                  3          3        Medical              1              10   \n",
       "7                 24          1  Life Sciences              1              11   \n",
       "8                 23          3  Life Sciences              1              12   \n",
       "9                 27          3        Medical              1              13   \n",
       "10                16          3        Medical              1              14   \n",
       "11                15          2  Life Sciences              1              15   \n",
       "12                26          1  Life Sciences              1              16   \n",
       "13                19          2        Medical              1              18   \n",
       "14                24          3  Life Sciences              1              19   \n",
       "\n",
       "    ...  RelationshipSatisfaction StandardHours  StockOptionLevel  \\\n",
       "0   ...                         1            80                 0   \n",
       "1   ...                         4            80                 1   \n",
       "2   ...                         2            80                 0   \n",
       "3   ...                         3            80                 0   \n",
       "4   ...                         4            80                 1   \n",
       "5   ...                         3            80                 0   \n",
       "6   ...                         1            80                 3   \n",
       "7   ...                         2            80                 1   \n",
       "8   ...                         2            80                 0   \n",
       "9   ...                         2            80                 2   \n",
       "10  ...                         3            80                 1   \n",
       "11  ...                         4            80                 0   \n",
       "12  ...                         4            80                 1   \n",
       "13  ...                         3            80                 1   \n",
       "14  ...                         2            80                 0   \n",
       "\n",
       "    TotalWorkingYears  TrainingTimesLastYear WorkLifeBalance  YearsAtCompany  \\\n",
       "0                   8                      0               1               6   \n",
       "1                  10                      3               3              10   \n",
       "2                   7                      3               3               0   \n",
       "3                   8                      3               3               8   \n",
       "4                   6                      3               3               2   \n",
       "5                   8                      2               2               7   \n",
       "6                  12                      3               2               1   \n",
       "7                   1                      2               3               1   \n",
       "8                  10                      2               3               9   \n",
       "9                  17                      3               2               7   \n",
       "10                  6                      5               3               5   \n",
       "11                 10                      3               3               9   \n",
       "12                  5                      1               2               5   \n",
       "13                  3                      2               3               2   \n",
       "14                  6                      4               3               4   \n",
       "\n",
       "   YearsInCurrentRole  YearsSinceLastPromotion  YearsWithCurrManager  \n",
       "0                   4                        0                     5  \n",
       "1                   7                        1                     7  \n",
       "2                   0                        0                     0  \n",
       "3                   7                        3                     0  \n",
       "4                   2                        2                     2  \n",
       "5                   7                        3                     6  \n",
       "6                   0                        0                     0  \n",
       "7                   0                        0                     0  \n",
       "8                   7                        1                     8  \n",
       "9                   7                        7                     7  \n",
       "10                  4                        0                     3  \n",
       "11                  5                        0                     8  \n",
       "12                  2                        4                     3  \n",
       "13                  2                        1                     2  \n",
       "14                  2                        0                     3  \n",
       "\n",
       "[15 rows x 35 columns]"
      ]
     },
     "execution_count": 2,
     "metadata": {},
     "output_type": "execute_result"
    }
   ],
   "source": [
    "# Getting the dataset\n",
    "\n",
    "df=pd.read_csv(\"HR Analytics.csv\")\n",
    "df.head(15)"
   ]
  },
  {
   "cell_type": "markdown",
   "id": "2d1c71b4",
   "metadata": {},
   "source": [
    "# Exploratory Data Analysis :"
   ]
  },
  {
   "cell_type": "code",
   "execution_count": 3,
   "id": "7d1766f7",
   "metadata": {},
   "outputs": [
    {
     "data": {
      "text/plain": [
       "(1470, 35)"
      ]
     },
     "execution_count": 3,
     "metadata": {},
     "output_type": "execute_result"
    }
   ],
   "source": [
    "df.shape"
   ]
  },
  {
   "cell_type": "markdown",
   "id": "2a1a23e3",
   "metadata": {},
   "source": [
    "This dataset has 1470 rows and 35 columns."
   ]
  },
  {
   "cell_type": "code",
   "execution_count": 4,
   "id": "3fe3cba0",
   "metadata": {},
   "outputs": [
    {
     "data": {
      "text/plain": [
       "Index(['Age', 'Attrition', 'BusinessTravel', 'DailyRate', 'Department',\n",
       "       'DistanceFromHome', 'Education', 'EducationField', 'EmployeeCount',\n",
       "       'EmployeeNumber', 'EnvironmentSatisfaction', 'Gender', 'HourlyRate',\n",
       "       'JobInvolvement', 'JobLevel', 'JobRole', 'JobSatisfaction',\n",
       "       'MaritalStatus', 'MonthlyIncome', 'MonthlyRate', 'NumCompaniesWorked',\n",
       "       'Over18', 'OverTime', 'PercentSalaryHike', 'PerformanceRating',\n",
       "       'RelationshipSatisfaction', 'StandardHours', 'StockOptionLevel',\n",
       "       'TotalWorkingYears', 'TrainingTimesLastYear', 'WorkLifeBalance',\n",
       "       'YearsAtCompany', 'YearsInCurrentRole', 'YearsSinceLastPromotion',\n",
       "       'YearsWithCurrManager'],\n",
       "      dtype='object')"
      ]
     },
     "execution_count": 4,
     "metadata": {},
     "output_type": "execute_result"
    }
   ],
   "source": [
    "# Let's check the 35 columns \n",
    "\n",
    "df.columns"
   ]
  },
  {
   "cell_type": "code",
   "execution_count": 5,
   "id": "c5e850e2",
   "metadata": {},
   "outputs": [],
   "source": [
    "# Checking the columns which were not displayed initially.\n",
    "\n",
    "display=df.iloc[:,10:25]"
   ]
  },
  {
   "cell_type": "code",
   "execution_count": 6,
   "id": "76c94978",
   "metadata": {},
   "outputs": [
    {
     "data": {
      "text/html": [
       "<div>\n",
       "<style scoped>\n",
       "    .dataframe tbody tr th:only-of-type {\n",
       "        vertical-align: middle;\n",
       "    }\n",
       "\n",
       "    .dataframe tbody tr th {\n",
       "        vertical-align: top;\n",
       "    }\n",
       "\n",
       "    .dataframe thead th {\n",
       "        text-align: right;\n",
       "    }\n",
       "</style>\n",
       "<table border=\"1\" class=\"dataframe\">\n",
       "  <thead>\n",
       "    <tr style=\"text-align: right;\">\n",
       "      <th></th>\n",
       "      <th>EnvironmentSatisfaction</th>\n",
       "      <th>Gender</th>\n",
       "      <th>HourlyRate</th>\n",
       "      <th>JobInvolvement</th>\n",
       "      <th>JobLevel</th>\n",
       "      <th>JobRole</th>\n",
       "      <th>JobSatisfaction</th>\n",
       "      <th>MaritalStatus</th>\n",
       "      <th>MonthlyIncome</th>\n",
       "      <th>MonthlyRate</th>\n",
       "      <th>NumCompaniesWorked</th>\n",
       "      <th>Over18</th>\n",
       "      <th>OverTime</th>\n",
       "      <th>PercentSalaryHike</th>\n",
       "      <th>PerformanceRating</th>\n",
       "    </tr>\n",
       "  </thead>\n",
       "  <tbody>\n",
       "    <tr>\n",
       "      <th>0</th>\n",
       "      <td>2</td>\n",
       "      <td>Female</td>\n",
       "      <td>94</td>\n",
       "      <td>3</td>\n",
       "      <td>2</td>\n",
       "      <td>Sales Executive</td>\n",
       "      <td>4</td>\n",
       "      <td>Single</td>\n",
       "      <td>5993</td>\n",
       "      <td>19479</td>\n",
       "      <td>8</td>\n",
       "      <td>Y</td>\n",
       "      <td>Yes</td>\n",
       "      <td>11</td>\n",
       "      <td>3</td>\n",
       "    </tr>\n",
       "    <tr>\n",
       "      <th>1</th>\n",
       "      <td>3</td>\n",
       "      <td>Male</td>\n",
       "      <td>61</td>\n",
       "      <td>2</td>\n",
       "      <td>2</td>\n",
       "      <td>Research Scientist</td>\n",
       "      <td>2</td>\n",
       "      <td>Married</td>\n",
       "      <td>5130</td>\n",
       "      <td>24907</td>\n",
       "      <td>1</td>\n",
       "      <td>Y</td>\n",
       "      <td>No</td>\n",
       "      <td>23</td>\n",
       "      <td>4</td>\n",
       "    </tr>\n",
       "    <tr>\n",
       "      <th>2</th>\n",
       "      <td>4</td>\n",
       "      <td>Male</td>\n",
       "      <td>92</td>\n",
       "      <td>2</td>\n",
       "      <td>1</td>\n",
       "      <td>Laboratory Technician</td>\n",
       "      <td>3</td>\n",
       "      <td>Single</td>\n",
       "      <td>2090</td>\n",
       "      <td>2396</td>\n",
       "      <td>6</td>\n",
       "      <td>Y</td>\n",
       "      <td>Yes</td>\n",
       "      <td>15</td>\n",
       "      <td>3</td>\n",
       "    </tr>\n",
       "    <tr>\n",
       "      <th>3</th>\n",
       "      <td>4</td>\n",
       "      <td>Female</td>\n",
       "      <td>56</td>\n",
       "      <td>3</td>\n",
       "      <td>1</td>\n",
       "      <td>Research Scientist</td>\n",
       "      <td>3</td>\n",
       "      <td>Married</td>\n",
       "      <td>2909</td>\n",
       "      <td>23159</td>\n",
       "      <td>1</td>\n",
       "      <td>Y</td>\n",
       "      <td>Yes</td>\n",
       "      <td>11</td>\n",
       "      <td>3</td>\n",
       "    </tr>\n",
       "    <tr>\n",
       "      <th>4</th>\n",
       "      <td>1</td>\n",
       "      <td>Male</td>\n",
       "      <td>40</td>\n",
       "      <td>3</td>\n",
       "      <td>1</td>\n",
       "      <td>Laboratory Technician</td>\n",
       "      <td>2</td>\n",
       "      <td>Married</td>\n",
       "      <td>3468</td>\n",
       "      <td>16632</td>\n",
       "      <td>9</td>\n",
       "      <td>Y</td>\n",
       "      <td>No</td>\n",
       "      <td>12</td>\n",
       "      <td>3</td>\n",
       "    </tr>\n",
       "    <tr>\n",
       "      <th>5</th>\n",
       "      <td>4</td>\n",
       "      <td>Male</td>\n",
       "      <td>79</td>\n",
       "      <td>3</td>\n",
       "      <td>1</td>\n",
       "      <td>Laboratory Technician</td>\n",
       "      <td>4</td>\n",
       "      <td>Single</td>\n",
       "      <td>3068</td>\n",
       "      <td>11864</td>\n",
       "      <td>0</td>\n",
       "      <td>Y</td>\n",
       "      <td>No</td>\n",
       "      <td>13</td>\n",
       "      <td>3</td>\n",
       "    </tr>\n",
       "    <tr>\n",
       "      <th>6</th>\n",
       "      <td>3</td>\n",
       "      <td>Female</td>\n",
       "      <td>81</td>\n",
       "      <td>4</td>\n",
       "      <td>1</td>\n",
       "      <td>Laboratory Technician</td>\n",
       "      <td>1</td>\n",
       "      <td>Married</td>\n",
       "      <td>2670</td>\n",
       "      <td>9964</td>\n",
       "      <td>4</td>\n",
       "      <td>Y</td>\n",
       "      <td>Yes</td>\n",
       "      <td>20</td>\n",
       "      <td>4</td>\n",
       "    </tr>\n",
       "    <tr>\n",
       "      <th>7</th>\n",
       "      <td>4</td>\n",
       "      <td>Male</td>\n",
       "      <td>67</td>\n",
       "      <td>3</td>\n",
       "      <td>1</td>\n",
       "      <td>Laboratory Technician</td>\n",
       "      <td>3</td>\n",
       "      <td>Divorced</td>\n",
       "      <td>2693</td>\n",
       "      <td>13335</td>\n",
       "      <td>1</td>\n",
       "      <td>Y</td>\n",
       "      <td>No</td>\n",
       "      <td>22</td>\n",
       "      <td>4</td>\n",
       "    </tr>\n",
       "    <tr>\n",
       "      <th>8</th>\n",
       "      <td>4</td>\n",
       "      <td>Male</td>\n",
       "      <td>44</td>\n",
       "      <td>2</td>\n",
       "      <td>3</td>\n",
       "      <td>Manufacturing Director</td>\n",
       "      <td>3</td>\n",
       "      <td>Single</td>\n",
       "      <td>9526</td>\n",
       "      <td>8787</td>\n",
       "      <td>0</td>\n",
       "      <td>Y</td>\n",
       "      <td>No</td>\n",
       "      <td>21</td>\n",
       "      <td>4</td>\n",
       "    </tr>\n",
       "    <tr>\n",
       "      <th>9</th>\n",
       "      <td>3</td>\n",
       "      <td>Male</td>\n",
       "      <td>94</td>\n",
       "      <td>3</td>\n",
       "      <td>2</td>\n",
       "      <td>Healthcare Representative</td>\n",
       "      <td>3</td>\n",
       "      <td>Married</td>\n",
       "      <td>5237</td>\n",
       "      <td>16577</td>\n",
       "      <td>6</td>\n",
       "      <td>Y</td>\n",
       "      <td>No</td>\n",
       "      <td>13</td>\n",
       "      <td>3</td>\n",
       "    </tr>\n",
       "    <tr>\n",
       "      <th>10</th>\n",
       "      <td>1</td>\n",
       "      <td>Male</td>\n",
       "      <td>84</td>\n",
       "      <td>4</td>\n",
       "      <td>1</td>\n",
       "      <td>Laboratory Technician</td>\n",
       "      <td>2</td>\n",
       "      <td>Married</td>\n",
       "      <td>2426</td>\n",
       "      <td>16479</td>\n",
       "      <td>0</td>\n",
       "      <td>Y</td>\n",
       "      <td>No</td>\n",
       "      <td>13</td>\n",
       "      <td>3</td>\n",
       "    </tr>\n",
       "    <tr>\n",
       "      <th>11</th>\n",
       "      <td>4</td>\n",
       "      <td>Female</td>\n",
       "      <td>49</td>\n",
       "      <td>2</td>\n",
       "      <td>2</td>\n",
       "      <td>Laboratory Technician</td>\n",
       "      <td>3</td>\n",
       "      <td>Single</td>\n",
       "      <td>4193</td>\n",
       "      <td>12682</td>\n",
       "      <td>0</td>\n",
       "      <td>Y</td>\n",
       "      <td>Yes</td>\n",
       "      <td>12</td>\n",
       "      <td>3</td>\n",
       "    </tr>\n",
       "    <tr>\n",
       "      <th>12</th>\n",
       "      <td>1</td>\n",
       "      <td>Male</td>\n",
       "      <td>31</td>\n",
       "      <td>3</td>\n",
       "      <td>1</td>\n",
       "      <td>Research Scientist</td>\n",
       "      <td>3</td>\n",
       "      <td>Divorced</td>\n",
       "      <td>2911</td>\n",
       "      <td>15170</td>\n",
       "      <td>1</td>\n",
       "      <td>Y</td>\n",
       "      <td>No</td>\n",
       "      <td>17</td>\n",
       "      <td>3</td>\n",
       "    </tr>\n",
       "    <tr>\n",
       "      <th>13</th>\n",
       "      <td>2</td>\n",
       "      <td>Male</td>\n",
       "      <td>93</td>\n",
       "      <td>3</td>\n",
       "      <td>1</td>\n",
       "      <td>Laboratory Technician</td>\n",
       "      <td>4</td>\n",
       "      <td>Divorced</td>\n",
       "      <td>2661</td>\n",
       "      <td>8758</td>\n",
       "      <td>0</td>\n",
       "      <td>Y</td>\n",
       "      <td>No</td>\n",
       "      <td>11</td>\n",
       "      <td>3</td>\n",
       "    </tr>\n",
       "    <tr>\n",
       "      <th>14</th>\n",
       "      <td>3</td>\n",
       "      <td>Male</td>\n",
       "      <td>50</td>\n",
       "      <td>2</td>\n",
       "      <td>1</td>\n",
       "      <td>Laboratory Technician</td>\n",
       "      <td>3</td>\n",
       "      <td>Single</td>\n",
       "      <td>2028</td>\n",
       "      <td>12947</td>\n",
       "      <td>5</td>\n",
       "      <td>Y</td>\n",
       "      <td>Yes</td>\n",
       "      <td>14</td>\n",
       "      <td>3</td>\n",
       "    </tr>\n",
       "  </tbody>\n",
       "</table>\n",
       "</div>"
      ],
      "text/plain": [
       "    EnvironmentSatisfaction  Gender  HourlyRate  JobInvolvement  JobLevel  \\\n",
       "0                         2  Female          94               3         2   \n",
       "1                         3    Male          61               2         2   \n",
       "2                         4    Male          92               2         1   \n",
       "3                         4  Female          56               3         1   \n",
       "4                         1    Male          40               3         1   \n",
       "5                         4    Male          79               3         1   \n",
       "6                         3  Female          81               4         1   \n",
       "7                         4    Male          67               3         1   \n",
       "8                         4    Male          44               2         3   \n",
       "9                         3    Male          94               3         2   \n",
       "10                        1    Male          84               4         1   \n",
       "11                        4  Female          49               2         2   \n",
       "12                        1    Male          31               3         1   \n",
       "13                        2    Male          93               3         1   \n",
       "14                        3    Male          50               2         1   \n",
       "\n",
       "                      JobRole  JobSatisfaction MaritalStatus  MonthlyIncome  \\\n",
       "0             Sales Executive                4        Single           5993   \n",
       "1          Research Scientist                2       Married           5130   \n",
       "2       Laboratory Technician                3        Single           2090   \n",
       "3          Research Scientist                3       Married           2909   \n",
       "4       Laboratory Technician                2       Married           3468   \n",
       "5       Laboratory Technician                4        Single           3068   \n",
       "6       Laboratory Technician                1       Married           2670   \n",
       "7       Laboratory Technician                3      Divorced           2693   \n",
       "8      Manufacturing Director                3        Single           9526   \n",
       "9   Healthcare Representative                3       Married           5237   \n",
       "10      Laboratory Technician                2       Married           2426   \n",
       "11      Laboratory Technician                3        Single           4193   \n",
       "12         Research Scientist                3      Divorced           2911   \n",
       "13      Laboratory Technician                4      Divorced           2661   \n",
       "14      Laboratory Technician                3        Single           2028   \n",
       "\n",
       "    MonthlyRate  NumCompaniesWorked Over18 OverTime  PercentSalaryHike  \\\n",
       "0         19479                   8      Y      Yes                 11   \n",
       "1         24907                   1      Y       No                 23   \n",
       "2          2396                   6      Y      Yes                 15   \n",
       "3         23159                   1      Y      Yes                 11   \n",
       "4         16632                   9      Y       No                 12   \n",
       "5         11864                   0      Y       No                 13   \n",
       "6          9964                   4      Y      Yes                 20   \n",
       "7         13335                   1      Y       No                 22   \n",
       "8          8787                   0      Y       No                 21   \n",
       "9         16577                   6      Y       No                 13   \n",
       "10        16479                   0      Y       No                 13   \n",
       "11        12682                   0      Y      Yes                 12   \n",
       "12        15170                   1      Y       No                 17   \n",
       "13         8758                   0      Y       No                 11   \n",
       "14        12947                   5      Y      Yes                 14   \n",
       "\n",
       "    PerformanceRating  \n",
       "0                   3  \n",
       "1                   4  \n",
       "2                   3  \n",
       "3                   3  \n",
       "4                   3  \n",
       "5                   3  \n",
       "6                   4  \n",
       "7                   4  \n",
       "8                   4  \n",
       "9                   3  \n",
       "10                  3  \n",
       "11                  3  \n",
       "12                  3  \n",
       "13                  3  \n",
       "14                  3  "
      ]
     },
     "execution_count": 6,
     "metadata": {},
     "output_type": "execute_result"
    }
   ],
   "source": [
    "display.head(15)"
   ]
  },
  {
   "cell_type": "markdown",
   "id": "6228e047",
   "metadata": {},
   "source": [
    "From both the dataframes, we can observe that the columns 'EmployeeCount', 'StandardHours', and 'Over18', has the same value for 1470 rows, which is not very helpful to us and will not contribute much to the training and testing of machine learning models, and hence we can drop them."
   ]
  },
  {
   "cell_type": "code",
   "execution_count": 7,
   "id": "a636e0f3",
   "metadata": {},
   "outputs": [],
   "source": [
    "df.drop(['Over18','StandardHours','EmployeeCount'],axis=1,inplace=True)"
   ]
  },
  {
   "cell_type": "code",
   "execution_count": 8,
   "id": "6b66275f",
   "metadata": {},
   "outputs": [
    {
     "data": {
      "text/plain": [
       "(1470, 32)"
      ]
     },
     "execution_count": 8,
     "metadata": {},
     "output_type": "execute_result"
    }
   ],
   "source": [
    "df.shape"
   ]
  },
  {
   "cell_type": "markdown",
   "id": "0194e544",
   "metadata": {},
   "source": [
    "So now we have 32 columns out of 35."
   ]
  },
  {
   "cell_type": "code",
   "execution_count": 9,
   "id": "0226fbb1",
   "metadata": {},
   "outputs": [
    {
     "data": {
      "text/plain": [
       "Age                          int64\n",
       "Attrition                   object\n",
       "BusinessTravel              object\n",
       "DailyRate                    int64\n",
       "Department                  object\n",
       "DistanceFromHome             int64\n",
       "Education                    int64\n",
       "EducationField              object\n",
       "EmployeeNumber               int64\n",
       "EnvironmentSatisfaction      int64\n",
       "Gender                      object\n",
       "HourlyRate                   int64\n",
       "JobInvolvement               int64\n",
       "JobLevel                     int64\n",
       "JobRole                     object\n",
       "JobSatisfaction              int64\n",
       "MaritalStatus               object\n",
       "MonthlyIncome                int64\n",
       "MonthlyRate                  int64\n",
       "NumCompaniesWorked           int64\n",
       "OverTime                    object\n",
       "PercentSalaryHike            int64\n",
       "PerformanceRating            int64\n",
       "RelationshipSatisfaction     int64\n",
       "StockOptionLevel             int64\n",
       "TotalWorkingYears            int64\n",
       "TrainingTimesLastYear        int64\n",
       "WorkLifeBalance              int64\n",
       "YearsAtCompany               int64\n",
       "YearsInCurrentRole           int64\n",
       "YearsSinceLastPromotion      int64\n",
       "YearsWithCurrManager         int64\n",
       "dtype: object"
      ]
     },
     "execution_count": 9,
     "metadata": {},
     "output_type": "execute_result"
    }
   ],
   "source": [
    "# Checking datatype of the dataset\n",
    "\n",
    "df.dtypes"
   ]
  },
  {
   "cell_type": "markdown",
   "id": "6f2ad448",
   "metadata": {},
   "source": [
    "Some of the features are object datatype :\n",
    "\n",
    "        1. Attrition\n",
    "        2. BusinessTravel\n",
    "        3. Department\n",
    "        4. EducationField\n",
    "        5. Gender\n",
    "        6. JobRole \n",
    "        7. MaritalStatus\n",
    "        8. OverTime"
   ]
  },
  {
   "cell_type": "code",
   "execution_count": 10,
   "id": "96d9ef44",
   "metadata": {},
   "outputs": [
    {
     "data": {
      "text/plain": [
       "array(['Yes', 'No'], dtype=object)"
      ]
     },
     "execution_count": 10,
     "metadata": {},
     "output_type": "execute_result"
    }
   ],
   "source": [
    "df.Attrition.unique()"
   ]
  },
  {
   "cell_type": "code",
   "execution_count": 11,
   "id": "3f2b8e81",
   "metadata": {},
   "outputs": [
    {
     "data": {
      "text/plain": [
       "No     1233\n",
       "Yes     237\n",
       "Name: Attrition, dtype: int64"
      ]
     },
     "execution_count": 11,
     "metadata": {},
     "output_type": "execute_result"
    }
   ],
   "source": [
    "df.Attrition.value_counts()"
   ]
  },
  {
   "cell_type": "markdown",
   "id": "ff9c3be9",
   "metadata": {},
   "source": [
    "Here we can observe that 'Attrition', which is our target, has categorical imbalance. The count for 'No' category is much higher than 'Yes'."
   ]
  },
  {
   "cell_type": "markdown",
   "id": "fa8f2000",
   "metadata": {},
   "source": [
    "We can check through visualization also :"
   ]
  },
  {
   "cell_type": "code",
   "execution_count": 12,
   "id": "f4f476d5",
   "metadata": {},
   "outputs": [],
   "source": [
    "# First importing the required library :\n",
    "\n",
    "import seaborn as sns"
   ]
  },
  {
   "cell_type": "code",
   "execution_count": 13,
   "id": "f0848e87",
   "metadata": {},
   "outputs": [
    {
     "data": {
      "text/plain": [
       "<AxesSubplot:xlabel='Attrition', ylabel='count'>"
      ]
     },
     "execution_count": 13,
     "metadata": {},
     "output_type": "execute_result"
    },
    {
     "data": {
      "image/png": "[encoded data removed]",
      "text/plain": [
       "<Figure size 432x288 with 1 Axes>"
      ]
     },
     "metadata": {
      "needs_background": "light"
     },
     "output_type": "display_data"
    }
   ],
   "source": [
    "sns.countplot(x='Attrition', data=df)"
   ]
  },
  {
   "cell_type": "markdown",
   "id": "cd871abc",
   "metadata": {},
   "source": [
    "We can handle this imbalance in the later part of the project.\n",
    "\n",
    "Let's continue with the rest of the categorical features :"
   ]
  },
  {
   "cell_type": "code",
   "execution_count": 14,
   "id": "5d8d8821",
   "metadata": {},
   "outputs": [
    {
     "data": {
      "text/plain": [
       "array(['Travel_Rarely', 'Travel_Frequently', 'Non-Travel'], dtype=object)"
      ]
     },
     "execution_count": 14,
     "metadata": {},
     "output_type": "execute_result"
    }
   ],
   "source": [
    "df.BusinessTravel.unique()"
   ]
  },
  {
   "cell_type": "code",
   "execution_count": 15,
   "id": "01d2cd5e",
   "metadata": {},
   "outputs": [
    {
     "data": {
      "text/plain": [
       "Travel_Rarely        1043\n",
       "Travel_Frequently     277\n",
       "Non-Travel            150\n",
       "Name: BusinessTravel, dtype: int64"
      ]
     },
     "execution_count": 15,
     "metadata": {},
     "output_type": "execute_result"
    }
   ],
   "source": [
    "df.BusinessTravel.value_counts()"
   ]
  },
  {
   "cell_type": "code",
   "execution_count": 16,
   "id": "ea59a0c8",
   "metadata": {},
   "outputs": [
    {
     "data": {
      "text/plain": [
       "<AxesSubplot:xlabel='BusinessTravel', ylabel='count'>"
      ]
     },
     "execution_count": 16,
     "metadata": {},
     "output_type": "execute_result"
    },
    {
     "data": {
      "image/png": "[encoded data removed]",
      "text/plain": [
       "<Figure size 432x288 with 1 Axes>"
      ]
     },
     "metadata": {
      "needs_background": "light"
     },
     "output_type": "display_data"
    }
   ],
   "source": [
    "sns.countplot(x='BusinessTravel', data=df)"
   ]
  },
  {
   "cell_type": "markdown",
   "id": "237c4b95",
   "metadata": {},
   "source": [
    "\n",
    "\n",
    "Here we can see that the employees rarely has any business travel."
   ]
  },
  {
   "cell_type": "code",
   "execution_count": 17,
   "id": "e69f1119",
   "metadata": {},
   "outputs": [
    {
     "data": {
      "text/plain": [
       "array(['Sales', 'Research & Development', 'Human Resources'], dtype=object)"
      ]
     },
     "execution_count": 17,
     "metadata": {},
     "output_type": "execute_result"
    }
   ],
   "source": [
    "df.Department.unique()"
   ]
  },
  {
   "cell_type": "code",
   "execution_count": 18,
   "id": "73e33e8e",
   "metadata": {},
   "outputs": [
    {
     "data": {
      "text/plain": [
       "Research & Development    961\n",
       "Sales                     446\n",
       "Human Resources            63\n",
       "Name: Department, dtype: int64"
      ]
     },
     "execution_count": 18,
     "metadata": {},
     "output_type": "execute_result"
    }
   ],
   "source": [
    "df.Department.value_counts()"
   ]
  },
  {
   "cell_type": "code",
   "execution_count": 19,
   "id": "d0c4d3c4",
   "metadata": {},
   "outputs": [
    {
     "data": {
      "text/plain": [
       "<AxesSubplot:xlabel='Department', ylabel='count'>"
      ]
     },
     "execution_count": 19,
     "metadata": {},
     "output_type": "execute_result"
    },
    {
     "data": {
      "image/png": "[encoded data removed]",
      "text/plain": [
       "<Figure size 432x288 with 1 Axes>"
      ]
     },
     "metadata": {
      "needs_background": "light"
     },
     "output_type": "display_data"
    }
   ],
   "source": [
    "sns.countplot(x='Department', data=df)"
   ]
  },
  {
   "cell_type": "markdown",
   "id": "1e2476f6",
   "metadata": {},
   "source": [
    "Here we can observe that there are very less employees in HR department which signifies attrition."
   ]
  },
  {
   "cell_type": "code",
   "execution_count": 20,
   "id": "4249407d",
   "metadata": {},
   "outputs": [
    {
     "data": {
      "text/plain": [
       "array(['Life Sciences', 'Other', 'Medical', 'Marketing',\n",
       "       'Technical Degree', 'Human Resources'], dtype=object)"
      ]
     },
     "execution_count": 20,
     "metadata": {},
     "output_type": "execute_result"
    }
   ],
   "source": [
    "df.EducationField.unique()"
   ]
  },
  {
   "cell_type": "code",
   "execution_count": 21,
   "id": "6a067b2b",
   "metadata": {},
   "outputs": [
    {
     "data": {
      "text/plain": [
       "Life Sciences       606\n",
       "Medical             464\n",
       "Marketing           159\n",
       "Technical Degree    132\n",
       "Other                82\n",
       "Human Resources      27\n",
       "Name: EducationField, dtype: int64"
      ]
     },
     "execution_count": 21,
     "metadata": {},
     "output_type": "execute_result"
    }
   ],
   "source": [
    "df.EducationField.value_counts()"
   ]
  },
  {
   "cell_type": "code",
   "execution_count": 28,
   "id": "333128f2",
   "metadata": {},
   "outputs": [
    {
     "data": {
      "text/plain": [
       "<AxesSubplot:xlabel='EducationField', ylabel='count'>"
      ]
     },
     "execution_count": 28,
     "metadata": {},
     "output_type": "execute_result"
    },
    {
     "data": {
      "image/png": "[encoded data removed]",
      "text/plain": [
       "<Figure size 864x360 with 1 Axes>"
      ]
     },
     "metadata": {
      "needs_background": "light"
     },
     "output_type": "display_data"
    }
   ],
   "source": [
    "import matplotlib.pyplot as plt\n",
    "plt.figure(figsize=(12,5))\n",
    "sns.countplot(x='EducationField', data=df)"
   ]
  },
  {
   "cell_type": "markdown",
   "id": "b421040a",
   "metadata": {},
   "source": [
    "Here also we can observe highly imbalanced data, and very less employees with HR education field."
   ]
  },
  {
   "cell_type": "code",
   "execution_count": 29,
   "id": "7ae26779",
   "metadata": {},
   "outputs": [
    {
     "data": {
      "text/plain": [
       "array(['Female', 'Male'], dtype=object)"
      ]
     },
     "execution_count": 29,
     "metadata": {},
     "output_type": "execute_result"
    }
   ],
   "source": [
    "df.Gender.unique()"
   ]
  },
  {
   "cell_type": "code",
   "execution_count": 30,
   "id": "75dd3fb5",
   "metadata": {},
   "outputs": [
    {
     "data": {
      "text/plain": [
       "Male      882\n",
       "Female    588\n",
       "Name: Gender, dtype: int64"
      ]
     },
     "execution_count": 30,
     "metadata": {},
     "output_type": "execute_result"
    }
   ],
   "source": [
    "df.Gender.value_counts()"
   ]
  },
  {
   "cell_type": "code",
   "execution_count": 31,
   "id": "deec65e2",
   "metadata": {},
   "outputs": [
    {
     "data": {
      "text/plain": [
       "<AxesSubplot:xlabel='Gender', ylabel='count'>"
      ]
     },
     "execution_count": 31,
     "metadata": {},
     "output_type": "execute_result"
    },
    {
     "data": {
      "image/png": "[encoded data removed]",
      "text/plain": [
       "<Figure size 432x288 with 1 Axes>"
      ]
     },
     "metadata": {
      "needs_background": "light"
     },
     "output_type": "display_data"
    }
   ],
   "source": [
    "sns.countplot(x='Gender', data=df)"
   ]
  },
  {
   "cell_type": "markdown",
   "id": "4090176d",
   "metadata": {},
   "source": [
    "Females are less in number in this organization."
   ]
  },
  {
   "cell_type": "code",
   "execution_count": 32,
   "id": "b5155482",
   "metadata": {},
   "outputs": [
    {
     "data": {
      "text/plain": [
       "array(['Sales Executive', 'Research Scientist', 'Laboratory Technician',\n",
       "       'Manufacturing Director', 'Healthcare Representative', 'Manager',\n",
       "       'Sales Representative', 'Research Director', 'Human Resources'],\n",
       "      dtype=object)"
      ]
     },
     "execution_count": 32,
     "metadata": {},
     "output_type": "execute_result"
    }
   ],
   "source": [
    "df.JobRole.unique()"
   ]
  },
  {
   "cell_type": "code",
   "execution_count": 33,
   "id": "5fcec9a6",
   "metadata": {},
   "outputs": [
    {
     "data": {
      "text/plain": [
       "Sales Executive              326\n",
       "Research Scientist           292\n",
       "Laboratory Technician        259\n",
       "Manufacturing Director       145\n",
       "Healthcare Representative    131\n",
       "Manager                      102\n",
       "Sales Representative          83\n",
       "Research Director             80\n",
       "Human Resources               52\n",
       "Name: JobRole, dtype: int64"
      ]
     },
     "execution_count": 33,
     "metadata": {},
     "output_type": "execute_result"
    }
   ],
   "source": [
    "df.JobRole.value_counts()"
   ]
  },
  {
   "cell_type": "code",
   "execution_count": 38,
   "id": "37579d5f",
   "metadata": {},
   "outputs": [
    {
     "data": {
      "text/plain": [
       "<AxesSubplot:xlabel='JobRole', ylabel='count'>"
      ]
     },
     "execution_count": 38,
     "metadata": {},
     "output_type": "execute_result"
    },
    {
     "data": {
      "image/png": "[encoded data removed]",
      "text/plain": [
       "<Figure size 1440x360 with 1 Axes>"
      ]
     },
     "metadata": {
      "needs_background": "light"
     },
     "output_type": "display_data"
    }
   ],
   "source": [
    "plt.figure(figsize=(20,5))\n",
    "sns.countplot(x='JobRole', data=df)"
   ]
  },
  {
   "cell_type": "markdown",
   "id": "37e97e39",
   "metadata": {},
   "source": [
    "Sales executive is the most popular job role in this organization."
   ]
  },
  {
   "cell_type": "code",
   "execution_count": 39,
   "id": "cbab47ab",
   "metadata": {},
   "outputs": [
    {
     "data": {
      "text/plain": [
       "array(['Single', 'Married', 'Divorced'], dtype=object)"
      ]
     },
     "execution_count": 39,
     "metadata": {},
     "output_type": "execute_result"
    }
   ],
   "source": [
    "df.MaritalStatus.unique()"
   ]
  },
  {
   "cell_type": "code",
   "execution_count": 40,
   "id": "0ebad873",
   "metadata": {},
   "outputs": [
    {
     "data": {
      "text/plain": [
       "Married     673\n",
       "Single      470\n",
       "Divorced    327\n",
       "Name: MaritalStatus, dtype: int64"
      ]
     },
     "execution_count": 40,
     "metadata": {},
     "output_type": "execute_result"
    }
   ],
   "source": [
    "df.MaritalStatus.value_counts()"
   ]
  },
  {
   "cell_type": "code",
   "execution_count": 41,
   "id": "1036605a",
   "metadata": {},
   "outputs": [
    {
     "data": {
      "text/plain": [
       "<AxesSubplot:xlabel='MaritalStatus', ylabel='count'>"
      ]
     },
     "execution_count": 41,
     "metadata": {},
     "output_type": "execute_result"
    },
    {
     "data": {
      "image/png": "[encoded data removed]",
      "text/plain": [
       "<Figure size 432x288 with 1 Axes>"
      ]
     },
     "metadata": {
      "needs_background": "light"
     },
     "output_type": "display_data"
    }
   ],
   "source": [
    "sns.countplot(x='MaritalStatus', data=df)"
   ]
  },
  {
   "cell_type": "markdown",
   "id": "326f5495",
   "metadata": {},
   "source": [
    "So most of the employees in this organization are married."
   ]
  },
  {
   "cell_type": "code",
   "execution_count": 42,
   "id": "809afe5d",
   "metadata": {},
   "outputs": [
    {
     "data": {
      "text/plain": [
       "array(['Yes', 'No'], dtype=object)"
      ]
     },
     "execution_count": 42,
     "metadata": {},
     "output_type": "execute_result"
    }
   ],
   "source": [
    "df.OverTime.unique()"
   ]
  },
  {
   "cell_type": "code",
   "execution_count": 43,
   "id": "5d15fb2e",
   "metadata": {},
   "outputs": [
    {
     "data": {
      "text/plain": [
       "No     1054\n",
       "Yes     416\n",
       "Name: OverTime, dtype: int64"
      ]
     },
     "execution_count": 43,
     "metadata": {},
     "output_type": "execute_result"
    }
   ],
   "source": [
    "df.OverTime.value_counts()"
   ]
  },
  {
   "cell_type": "code",
   "execution_count": 44,
   "id": "68db3926",
   "metadata": {},
   "outputs": [
    {
     "data": {
      "text/plain": [
       "<AxesSubplot:xlabel='OverTime', ylabel='count'>"
      ]
     },
     "execution_count": 44,
     "metadata": {},
     "output_type": "execute_result"
    },
    {
     "data": {
      "image/png": "[encoded data removed]",
      "text/plain": [
       "<Figure size 432x288 with 1 Axes>"
      ]
     },
     "metadata": {
      "needs_background": "light"
     },
     "output_type": "display_data"
    }
   ],
   "source": [
    "sns.countplot(x='OverTime', data=df)"
   ]
  },
  {
   "cell_type": "markdown",
   "id": "87c81f35",
   "metadata": {},
   "source": [
    "From the above analysis of all the categorical features, we can conclude that there are several imbalanced data, even in the target itself.\n",
    "\n",
    "So to balance the target feature we will use SMOTE technique in the later part of the project.\n",
    "\n",
    "And for the other independent features, we can check its correlation with the target, and if the feature is not highly correlated to the target variable and it is highly imbalanced, then we can drop that column."
   ]
  },
  {
   "cell_type": "code",
   "execution_count": 47,
   "id": "1c21728a",
   "metadata": {},
   "outputs": [
    {
     "data": {
      "text/plain": [
       "Age                         0\n",
       "Attrition                   0\n",
       "BusinessTravel              0\n",
       "DailyRate                   0\n",
       "Department                  0\n",
       "DistanceFromHome            0\n",
       "Education                   0\n",
       "EducationField              0\n",
       "EmployeeNumber              0\n",
       "EnvironmentSatisfaction     0\n",
       "Gender                      0\n",
       "HourlyRate                  0\n",
       "JobInvolvement              0\n",
       "JobLevel                    0\n",
       "JobRole                     0\n",
       "JobSatisfaction             0\n",
       "MaritalStatus               0\n",
       "MonthlyIncome               0\n",
       "MonthlyRate                 0\n",
       "NumCompaniesWorked          0\n",
       "OverTime                    0\n",
       "PercentSalaryHike           0\n",
       "PerformanceRating           0\n",
       "RelationshipSatisfaction    0\n",
       "StockOptionLevel            0\n",
       "TotalWorkingYears           0\n",
       "TrainingTimesLastYear       0\n",
       "WorkLifeBalance             0\n",
       "YearsAtCompany              0\n",
       "YearsInCurrentRole          0\n",
       "YearsSinceLastPromotion     0\n",
       "YearsWithCurrManager        0\n",
       "dtype: int64"
      ]
     },
     "execution_count": 47,
     "metadata": {},
     "output_type": "execute_result"
    }
   ],
   "source": [
    "# Checking for null values\n",
    "\n",
    "df.isnull().sum()"
   ]
  },
  {
   "cell_type": "markdown",
   "id": "8df05d5c",
   "metadata": {},
   "source": [
    "Visualization :"
   ]
  },
  {
   "cell_type": "code",
   "execution_count": 48,
   "id": "ffe47018",
   "metadata": {},
   "outputs": [
    {
     "data": {
      "text/plain": [
       "<AxesSubplot:>"
      ]
     },
     "execution_count": 48,
     "metadata": {},
     "output_type": "execute_result"
    },
    {
     "data": {
      "image/png": "[encoded data removed]",
      "text/plain": [
       "<Figure size 432x288 with 2 Axes>"
      ]
     },
     "metadata": {
      "needs_background": "light"
     },
     "output_type": "display_data"
    }
   ],
   "source": [
    "sns.heatmap(df.isnull())"
   ]
  },
  {
   "cell_type": "markdown",
   "id": "ef0635b4",
   "metadata": {},
   "source": [
    "Henceforth, we are confirm that there are no null values and can proceed further with our analysis."
   ]
  },
  {
   "cell_type": "markdown",
   "id": "5c683baa",
   "metadata": {},
   "source": [
    "# Univariate Analysis :"
   ]
  },
  {
   "cell_type": "code",
   "execution_count": 63,
   "id": "7c796fb3",
   "metadata": {},
   "outputs": [
    {
     "data": {
      "text/plain": [
       "<AxesSubplot:xlabel='Age', ylabel='Density'>"
      ]
     },
     "execution_count": 63,
     "metadata": {},
     "output_type": "execute_result"
    },
    {
     "data": {
      "image/png": "[encoded data removed]",
      "text/plain": [
       "<Figure size 432x288 with 1 Axes>"
      ]
     },
     "metadata": {
      "needs_background": "light"
     },
     "output_type": "display_data"
    }
   ],
   "source": [
    "sns.distplot(df.Age, color='y') "
   ]
  },
  {
   "cell_type": "markdown",
   "id": "9afc8518",
   "metadata": {},
   "source": [
    "From this distribution plot we can know that most of the employees are in the age of 30-40."
   ]
  },
  {
   "cell_type": "code",
   "execution_count": 66,
   "id": "c16399a8",
   "metadata": {},
   "outputs": [
    {
     "data": {
      "text/plain": [
       "<AxesSubplot:xlabel='DistanceFromHome', ylabel='Density'>"
      ]
     },
     "execution_count": 66,
     "metadata": {},
     "output_type": "execute_result"
    },
    {
     "data": {
      "image/png": "[encoded data removed]",
      "text/plain": [
       "<Figure size 432x288 with 1 Axes>"
      ]
     },
     "metadata": {
      "needs_background": "light"
     },
     "output_type": "display_data"
    }
   ],
   "source": [
    "sns.distplot(df.DistanceFromHome, color='y')"
   ]
  },
  {
   "cell_type": "markdown",
   "id": "40c3cdc3",
   "metadata": {},
   "source": [
    "Most of the employees stay nearby to the organization."
   ]
  },
  {
   "cell_type": "code",
   "execution_count": 67,
   "id": "1840f0c8",
   "metadata": {},
   "outputs": [
    {
     "data": {
      "text/plain": [
       "<AxesSubplot:xlabel='TotalWorkingYears', ylabel='Density'>"
      ]
     },
     "execution_count": 67,
     "metadata": {},
     "output_type": "execute_result"
    },
    {
     "data": {
      "image/png": "[encoded data removed]",
      "text/plain": [
       "<Figure size 432x288 with 1 Axes>"
      ]
     },
     "metadata": {
      "needs_background": "light"
     },
     "output_type": "display_data"
    }
   ],
   "source": [
    "sns.distplot(df.TotalWorkingYears, color='y')"
   ]
  },
  {
   "cell_type": "markdown",
   "id": "2f400333",
   "metadata": {},
   "source": [
    "Most of the employees has worked a total of 8-10 years in this organization. And comparatively very less employees has worked above 20 years."
   ]
  },
  {
   "cell_type": "code",
   "execution_count": 76,
   "id": "49fd8bb1",
   "metadata": {},
   "outputs": [
    {
     "data": {
      "text/plain": [
       "<AxesSubplot:xlabel='EnvironmentSatisfaction'>"
      ]
     },
     "execution_count": 76,
     "metadata": {},
     "output_type": "execute_result"
    },
    {
     "data": {
      "image/png": "[encoded data removed]",
      "text/plain": [
       "<Figure size 432x288 with 1 Axes>"
      ]
     },
     "metadata": {
      "needs_background": "light"
     },
     "output_type": "display_data"
    }
   ],
   "source": [
    " sns.violinplot(x='EnvironmentSatisfaction', data=df)"
   ]
  },
  {
   "cell_type": "code",
   "execution_count": 77,
   "id": "8186e18c",
   "metadata": {},
   "outputs": [
    {
     "data": {
      "text/plain": [
       "<AxesSubplot:xlabel='JobSatisfaction'>"
      ]
     },
     "execution_count": 77,
     "metadata": {},
     "output_type": "execute_result"
    },
    {
     "data": {
      "image/png": "[encoded data removed]",
      "text/plain": [
       "<Figure size 432x288 with 1 Axes>"
      ]
     },
     "metadata": {
      "needs_background": "light"
     },
     "output_type": "display_data"
    }
   ],
   "source": [
    " sns.violinplot(x='JobSatisfaction', data=df)"
   ]
  },
  {
   "cell_type": "code",
   "execution_count": 73,
   "id": "e3b38343",
   "metadata": {},
   "outputs": [
    {
     "data": {
      "text/plain": [
       "<AxesSubplot:xlabel='MonthlyIncome', ylabel='Density'>"
      ]
     },
     "execution_count": 73,
     "metadata": {},
     "output_type": "execute_result"
    },
    {
     "data": {
      "image/png": "[encoded data removed]",
      "text/plain": [
       "<Figure size 432x288 with 1 Axes>"
      ]
     },
     "metadata": {
      "needs_background": "light"
     },
     "output_type": "display_data"
    }
   ],
   "source": [
    " sns.distplot(df.MonthlyIncome, color='y')"
   ]
  },
  {
   "cell_type": "markdown",
   "id": "b59f45b8",
   "metadata": {},
   "source": [
    "Monthly income of the employees is mostly in the range 4000-5000."
   ]
  },
  {
   "cell_type": "code",
   "execution_count": 74,
   "id": "16037464",
   "metadata": {},
   "outputs": [
    {
     "data": {
      "text/plain": [
       "<AxesSubplot:xlabel='PercentSalaryHike', ylabel='Density'>"
      ]
     },
     "execution_count": 74,
     "metadata": {},
     "output_type": "execute_result"
    },
    {
     "data": {
      "image/png": "[encoded data removed]",
      "text/plain": [
       "<Figure size 432x288 with 1 Axes>"
      ]
     },
     "metadata": {
      "needs_background": "light"
     },
     "output_type": "display_data"
    }
   ],
   "source": [
    "sns.distplot(df.PercentSalaryHike, color='y')"
   ]
  },
  {
   "cell_type": "markdown",
   "id": "006b69f2",
   "metadata": {},
   "source": [
    "Employees mostly get a hike in the range of 11 to 15 percent"
   ]
  },
  {
   "cell_type": "code",
   "execution_count": 75,
   "id": "fcfb41b3",
   "metadata": {},
   "outputs": [
    {
     "data": {
      "text/plain": [
       "<AxesSubplot:xlabel='PerformanceRating', ylabel='count'>"
      ]
     },
     "execution_count": 75,
     "metadata": {},
     "output_type": "execute_result"
    },
    {
     "data": {
      "image/png": "[encoded data removed]",
      "text/plain": [
       "<Figure size 432x288 with 1 Axes>"
      ]
     },
     "metadata": {
      "needs_background": "light"
     },
     "output_type": "display_data"
    }
   ],
   "source": [
    "sns.countplot(x='PerformanceRating', data=df)"
   ]
  },
  {
   "cell_type": "markdown",
   "id": "c188b93b",
   "metadata": {},
   "source": [
    "Most of the employees has a performance rating of 3, which is considered as a good rating.\n",
    "\n",
    "But this feature is highly imbalanced, and will b looked into in the later part of the project."
   ]
  },
  {
   "cell_type": "markdown",
   "id": "da4770a8",
   "metadata": {},
   "source": [
    "BOXPLOT :"
   ]
  },
  {
   "cell_type": "code",
   "execution_count": 78,
   "id": "4b52bd63",
   "metadata": {},
   "outputs": [
    {
     "data": {
      "text/plain": [
       "(1470, 32)"
      ]
     },
     "execution_count": 78,
     "metadata": {},
     "output_type": "execute_result"
    }
   ],
   "source": [
    "df.shape"
   ]
  },
  {
   "cell_type": "code",
   "execution_count": 82,
   "id": "0f22a1f6",
   "metadata": {},
   "outputs": [
    {
     "data": {
      "text/plain": [
       "Age                            AxesSubplot(0.125,0.799681;0.168478x0.0803191)\n",
       "DailyRate                   AxesSubplot(0.327174,0.799681;0.168478x0.0803191)\n",
       "DistanceFromHome            AxesSubplot(0.529348,0.799681;0.168478x0.0803191)\n",
       "Education                   AxesSubplot(0.731522,0.799681;0.168478x0.0803191)\n",
       "EmployeeNumber                 AxesSubplot(0.125,0.703298;0.168478x0.0803191)\n",
       "EnvironmentSatisfaction     AxesSubplot(0.327174,0.703298;0.168478x0.0803191)\n",
       "HourlyRate                  AxesSubplot(0.529348,0.703298;0.168478x0.0803191)\n",
       "JobInvolvement              AxesSubplot(0.731522,0.703298;0.168478x0.0803191)\n",
       "JobLevel                       AxesSubplot(0.125,0.606915;0.168478x0.0803191)\n",
       "JobSatisfaction             AxesSubplot(0.327174,0.606915;0.168478x0.0803191)\n",
       "MonthlyIncome               AxesSubplot(0.529348,0.606915;0.168478x0.0803191)\n",
       "MonthlyRate                 AxesSubplot(0.731522,0.606915;0.168478x0.0803191)\n",
       "NumCompaniesWorked             AxesSubplot(0.125,0.510532;0.168478x0.0803191)\n",
       "PercentSalaryHike           AxesSubplot(0.327174,0.510532;0.168478x0.0803191)\n",
       "PerformanceRating           AxesSubplot(0.529348,0.510532;0.168478x0.0803191)\n",
       "RelationshipSatisfaction    AxesSubplot(0.731522,0.510532;0.168478x0.0803191)\n",
       "StockOptionLevel               AxesSubplot(0.125,0.414149;0.168478x0.0803191)\n",
       "TotalWorkingYears           AxesSubplot(0.327174,0.414149;0.168478x0.0803191)\n",
       "TrainingTimesLastYear       AxesSubplot(0.529348,0.414149;0.168478x0.0803191)\n",
       "WorkLifeBalance             AxesSubplot(0.731522,0.414149;0.168478x0.0803191)\n",
       "YearsAtCompany                 AxesSubplot(0.125,0.317766;0.168478x0.0803191)\n",
       "YearsInCurrentRole          AxesSubplot(0.327174,0.317766;0.168478x0.0803191)\n",
       "YearsSinceLastPromotion     AxesSubplot(0.529348,0.317766;0.168478x0.0803191)\n",
       "YearsWithCurrManager        AxesSubplot(0.731522,0.317766;0.168478x0.0803191)\n",
       "dtype: object"
      ]
     },
     "execution_count": 82,
     "metadata": {},
     "output_type": "execute_result"
    },
    {
     "data": {
      "image/png": "[encoded data removed]",
      "text/plain": [
       "<Figure size 1440x1800 with 32 Axes>"
      ]
     },
     "metadata": {
      "needs_background": "light"
     },
     "output_type": "display_data"
    }
   ],
   "source": [
    "df.plot(kind='box', subplots=True, layout=(8,4), figsize=(20,25), colormap='YlOrRd_r')"
   ]
  },
  {
   "cell_type": "markdown",
   "id": "241ed15e",
   "metadata": {},
   "source": [
    "Here we can observe that some features has outliers."
   ]
  },
  {
   "cell_type": "markdown",
   "id": "6f09a3d7",
   "metadata": {},
   "source": [
    "HISTOGRAM :"
   ]
  },
  {
   "cell_type": "code",
   "execution_count": 83,
   "id": "83f4ca3d",
   "metadata": {},
   "outputs": [
    {
     "data": {
      "text/plain": [
       "array([[<AxesSubplot:title={'center':'Age'}>,\n",
       "        <AxesSubplot:title={'center':'DailyRate'}>,\n",
       "        <AxesSubplot:title={'center':'DistanceFromHome'}>,\n",
       "        <AxesSubplot:title={'center':'Education'}>,\n",
       "        <AxesSubplot:title={'center':'EmployeeNumber'}>],\n",
       "       [<AxesSubplot:title={'center':'EnvironmentSatisfaction'}>,\n",
       "        <AxesSubplot:title={'center':'HourlyRate'}>,\n",
       "        <AxesSubplot:title={'center':'JobInvolvement'}>,\n",
       "        <AxesSubplot:title={'center':'JobLevel'}>,\n",
       "        <AxesSubplot:title={'center':'JobSatisfaction'}>],\n",
       "       [<AxesSubplot:title={'center':'MonthlyIncome'}>,\n",
       "        <AxesSubplot:title={'center':'MonthlyRate'}>,\n",
       "        <AxesSubplot:title={'center':'NumCompaniesWorked'}>,\n",
       "        <AxesSubplot:title={'center':'PercentSalaryHike'}>,\n",
       "        <AxesSubplot:title={'center':'PerformanceRating'}>],\n",
       "       [<AxesSubplot:title={'center':'RelationshipSatisfaction'}>,\n",
       "        <AxesSubplot:title={'center':'StockOptionLevel'}>,\n",
       "        <AxesSubplot:title={'center':'TotalWorkingYears'}>,\n",
       "        <AxesSubplot:title={'center':'TrainingTimesLastYear'}>,\n",
       "        <AxesSubplot:title={'center':'WorkLifeBalance'}>],\n",
       "       [<AxesSubplot:title={'center':'YearsAtCompany'}>,\n",
       "        <AxesSubplot:title={'center':'YearsInCurrentRole'}>,\n",
       "        <AxesSubplot:title={'center':'YearsSinceLastPromotion'}>,\n",
       "        <AxesSubplot:title={'center':'YearsWithCurrManager'}>,\n",
       "        <AxesSubplot:>]], dtype=object)"
      ]
     },
     "execution_count": 83,
     "metadata": {},
     "output_type": "execute_result"
    },
    {
     "data": {
      "image/png": "[encoded data removed]",
      "text/plain": [
       "<Figure size 1440x1800 with 25 Axes>"
      ]
     },
     "metadata": {
      "needs_background": "light"
     },
     "output_type": "display_data"
    }
   ],
   "source": [
    "df.hist(edgecolor='black',linewidth=1,figsize=(20,25))"
   ]
  },
  {
   "cell_type": "markdown",
   "id": "435f19c9",
   "metadata": {},
   "source": [
    "The above histogram indicates presence of skewness and categorical data"
   ]
  },
  {
   "cell_type": "markdown",
   "id": "d2952ca7",
   "metadata": {},
   "source": [
    "# Bivariate Analysis :"
   ]
  },
  {
   "cell_type": "code",
   "execution_count": 89,
   "id": "61997cdd",
   "metadata": {},
   "outputs": [
    {
     "data": {
      "text/plain": [
       "<AxesSubplot:xlabel='Attrition', ylabel='Age'>"
      ]
     },
     "execution_count": 89,
     "metadata": {},
     "output_type": "execute_result"
    },
    {
     "data": {
      "image/png": "[encoded data removed]",
      "text/plain": [
       "<Figure size 432x288 with 1 Axes>"
      ]
     },
     "metadata": {
      "needs_background": "light"
     },
     "output_type": "display_data"
    }
   ],
   "source": [
    "sns.barplot(y='Age',x='Attrition',data=df)"
   ]
  },
  {
   "cell_type": "markdown",
   "id": "d8ad9dde",
   "metadata": {},
   "source": [
    "Employees above the age 34 are likely not to leave the organization."
   ]
  },
  {
   "cell_type": "code",
   "execution_count": 114,
   "id": "6a57db1a",
   "metadata": {},
   "outputs": [
    {
     "data": {
      "text/plain": [
       "<AxesSubplot:xlabel='JobLevel', ylabel='count'>"
      ]
     },
     "execution_count": 114,
     "metadata": {},
     "output_type": "execute_result"
    },
    {
     "data": {
      "image/png": "[encoded data removed]",
      "text/plain": [
       "<Figure size 432x288 with 1 Axes>"
      ]
     },
     "metadata": {
      "needs_background": "light"
     },
     "output_type": "display_data"
    }
   ],
   "source": [
    "sns.countplot('JobLevel',hue='Attrition',data=df)"
   ]
  },
  {
   "cell_type": "markdown",
   "id": "4cef55c0",
   "metadata": {},
   "source": [
    "With lower job level, high chances of employee leaving the organization."
   ]
  },
  {
   "cell_type": "code",
   "execution_count": 115,
   "id": "a3a547b5",
   "metadata": {},
   "outputs": [
    {
     "data": {
      "text/plain": [
       "<AxesSubplot:xlabel='Attrition', ylabel='MonthlyIncome'>"
      ]
     },
     "execution_count": 115,
     "metadata": {},
     "output_type": "execute_result"
    },
    {
     "data": {
      "image/png": "[encoded data removed]",
      "text/plain": [
       "<Figure size 432x288 with 1 Axes>"
      ]
     },
     "metadata": {
      "needs_background": "light"
     },
     "output_type": "display_data"
    }
   ],
   "source": [
    "sns.barplot(y='MonthlyIncome',x='Attrition',data=df)"
   ]
  },
  {
   "cell_type": "markdown",
   "id": "669bb7ee",
   "metadata": {},
   "source": [
    "With less income employees are likely to change the organization."
   ]
  },
  {
   "cell_type": "code",
   "execution_count": 116,
   "id": "2ef4cda8",
   "metadata": {},
   "outputs": [
    {
     "data": {
      "text/plain": [
       "<AxesSubplot:xlabel='OverTime', ylabel='count'>"
      ]
     },
     "execution_count": 116,
     "metadata": {},
     "output_type": "execute_result"
    },
    {
     "data": {
      "image/png": "[encoded data removed]",
      "text/plain": [
       "<Figure size 432x288 with 1 Axes>"
      ]
     },
     "metadata": {
      "needs_background": "light"
     },
     "output_type": "display_data"
    }
   ],
   "source": [
    "sns.countplot('OverTime',hue='Attrition',data=df)"
   ]
  },
  {
   "cell_type": "markdown",
   "id": "b39d7728",
   "metadata": {},
   "source": [
    "Employees with no overtime are not leaving the organization."
   ]
  },
  {
   "cell_type": "code",
   "execution_count": 117,
   "id": "b238e144",
   "metadata": {},
   "outputs": [
    {
     "data": {
      "text/plain": [
       "<AxesSubplot:xlabel='JobSatisfaction', ylabel='count'>"
      ]
     },
     "execution_count": 117,
     "metadata": {},
     "output_type": "execute_result"
    },
    {
     "data": {
      "image/png": "[encoded data removed]",
      "text/plain": [
       "<Figure size 432x288 with 1 Axes>"
      ]
     },
     "metadata": {
      "needs_background": "light"
     },
     "output_type": "display_data"
    }
   ],
   "source": [
    "sns.countplot('JobSatisfaction',hue='Attrition',data=df)"
   ]
  },
  {
   "cell_type": "code",
   "execution_count": null,
   "id": "6d7a2c9d",
   "metadata": {},
   "outputs": [],
   "source": [
    "No specific relation can be observed between JobSatisfaction and Attrition"
   ]
  },
  {
   "cell_type": "code",
   "execution_count": 119,
   "id": "45313ccc",
   "metadata": {},
   "outputs": [
    {
     "data": {
      "text/plain": [
       "<AxesSubplot:xlabel='PercentSalaryHike', ylabel='count'>"
      ]
     },
     "execution_count": 119,
     "metadata": {},
     "output_type": "execute_result"
    },
    {
     "data": {
      "image/png": "[encoded data removed]",
      "text/plain": [
       "<Figure size 432x288 with 1 Axes>"
      ]
     },
     "metadata": {
      "needs_background": "light"
     },
     "output_type": "display_data"
    }
   ],
   "source": [
    "sns.countplot('PercentSalaryHike',hue='Attrition',data=df)"
   ]
  },
  {
   "cell_type": "code",
   "execution_count": null,
   "id": "0acd912f",
   "metadata": {},
   "outputs": [],
   "source": [
    "With less hike, chances are employees will leave the organization."
   ]
  },
  {
   "cell_type": "code",
   "execution_count": 121,
   "id": "baeadcf4",
   "metadata": {},
   "outputs": [
    {
     "data": {
      "text/plain": [
       "<AxesSubplot:xlabel='YearsAtCompany', ylabel='count'>"
      ]
     },
     "execution_count": 121,
     "metadata": {},
     "output_type": "execute_result"
    },
    {
     "data": {
      "image/png": "[encoded data removed]",
      "text/plain": [
       "<Figure size 432x288 with 1 Axes>"
      ]
     },
     "metadata": {
      "needs_background": "light"
     },
     "output_type": "display_data"
    }
   ],
   "source": [
    "sns.countplot('YearsAtCompany',hue='Attrition',data=df)"
   ]
  },
  {
   "cell_type": "markdown",
   "id": "0ef635d6",
   "metadata": {},
   "source": [
    "Employees with less years are more likely to leave the organization."
   ]
  },
  {
   "cell_type": "markdown",
   "id": "ac7b825c",
   "metadata": {},
   "source": [
    "# Label Encoder :\n",
    "First lets convert the string features into numeric :"
   ]
  },
  {
   "cell_type": "code",
   "execution_count": 128,
   "id": "20cc9aee",
   "metadata": {},
   "outputs": [],
   "source": [
    "from sklearn import preprocessing"
   ]
  },
  {
   "cell_type": "code",
   "execution_count": 129,
   "id": "7f3c7392",
   "metadata": {},
   "outputs": [],
   "source": [
    "le = preprocessing.LabelEncoder()"
   ]
  },
  {
   "cell_type": "code",
   "execution_count": 131,
   "id": "c3afaae8",
   "metadata": {},
   "outputs": [],
   "source": [
    "df['Attrition']=le.fit_transform(df['Attrition'])\n",
    "df['BusinessTravel']=le.fit_transform(df['BusinessTravel'])\n",
    "df['Department']=le.fit_transform(df['Department'])\n",
    "df['EducationField']=le.fit_transform(df['EducationField'])\n",
    "df['Gender']=le.fit_transform(df['Gender'])\n",
    "df['JobRole']=le.fit_transform(df['JobRole'])\n",
    "df['MaritalStatus']=le.fit_transform(df['MaritalStatus'])\n",
    "df['OverTime']=le.fit_transform(df['OverTime'])"
   ]
  },
  {
   "cell_type": "code",
   "execution_count": 161,
   "id": "8e573d65",
   "metadata": {},
   "outputs": [
    {
     "data": {
      "text/html": [
       "<div>\n",
       "<style scoped>\n",
       "    .dataframe tbody tr th:only-of-type {\n",
       "        vertical-align: middle;\n",
       "    }\n",
       "\n",
       "    .dataframe tbody tr th {\n",
       "        vertical-align: top;\n",
       "    }\n",
       "\n",
       "    .dataframe thead th {\n",
       "        text-align: right;\n",
       "    }\n",
       "</style>\n",
       "<table border=\"1\" class=\"dataframe\">\n",
       "  <thead>\n",
       "    <tr style=\"text-align: right;\">\n",
       "      <th></th>\n",
       "      <th>count</th>\n",
       "      <th>mean</th>\n",
       "      <th>std</th>\n",
       "      <th>min</th>\n",
       "      <th>25%</th>\n",
       "      <th>50%</th>\n",
       "      <th>75%</th>\n",
       "      <th>max</th>\n",
       "    </tr>\n",
       "  </thead>\n",
       "  <tbody>\n",
       "    <tr>\n",
       "      <th>Age</th>\n",
       "      <td>1470.0</td>\n",
       "      <td>36.923810</td>\n",
       "      <td>9.135373</td>\n",
       "      <td>18.0</td>\n",
       "      <td>30.00</td>\n",
       "      <td>36.0</td>\n",
       "      <td>43.00</td>\n",
       "      <td>60.0</td>\n",
       "    </tr>\n",
       "    <tr>\n",
       "      <th>Attrition</th>\n",
       "      <td>1470.0</td>\n",
       "      <td>0.161224</td>\n",
       "      <td>0.367863</td>\n",
       "      <td>0.0</td>\n",
       "      <td>0.00</td>\n",
       "      <td>0.0</td>\n",
       "      <td>0.00</td>\n",
       "      <td>1.0</td>\n",
       "    </tr>\n",
       "    <tr>\n",
       "      <th>BusinessTravel</th>\n",
       "      <td>1470.0</td>\n",
       "      <td>1.607483</td>\n",
       "      <td>0.665455</td>\n",
       "      <td>0.0</td>\n",
       "      <td>1.00</td>\n",
       "      <td>2.0</td>\n",
       "      <td>2.00</td>\n",
       "      <td>2.0</td>\n",
       "    </tr>\n",
       "    <tr>\n",
       "      <th>DailyRate</th>\n",
       "      <td>1470.0</td>\n",
       "      <td>802.485714</td>\n",
       "      <td>403.509100</td>\n",
       "      <td>102.0</td>\n",
       "      <td>465.00</td>\n",
       "      <td>802.0</td>\n",
       "      <td>1157.00</td>\n",
       "      <td>1499.0</td>\n",
       "    </tr>\n",
       "    <tr>\n",
       "      <th>Department</th>\n",
       "      <td>1470.0</td>\n",
       "      <td>1.260544</td>\n",
       "      <td>0.527792</td>\n",
       "      <td>0.0</td>\n",
       "      <td>1.00</td>\n",
       "      <td>1.0</td>\n",
       "      <td>2.00</td>\n",
       "      <td>2.0</td>\n",
       "    </tr>\n",
       "    <tr>\n",
       "      <th>DistanceFromHome</th>\n",
       "      <td>1470.0</td>\n",
       "      <td>9.192517</td>\n",
       "      <td>8.106864</td>\n",
       "      <td>1.0</td>\n",
       "      <td>2.00</td>\n",
       "      <td>7.0</td>\n",
       "      <td>14.00</td>\n",
       "      <td>29.0</td>\n",
       "    </tr>\n",
       "    <tr>\n",
       "      <th>Education</th>\n",
       "      <td>1470.0</td>\n",
       "      <td>2.912925</td>\n",
       "      <td>1.024165</td>\n",
       "      <td>1.0</td>\n",
       "      <td>2.00</td>\n",
       "      <td>3.0</td>\n",
       "      <td>4.00</td>\n",
       "      <td>5.0</td>\n",
       "    </tr>\n",
       "    <tr>\n",
       "      <th>EducationField</th>\n",
       "      <td>1470.0</td>\n",
       "      <td>2.247619</td>\n",
       "      <td>1.331369</td>\n",
       "      <td>0.0</td>\n",
       "      <td>1.00</td>\n",
       "      <td>2.0</td>\n",
       "      <td>3.00</td>\n",
       "      <td>5.0</td>\n",
       "    </tr>\n",
       "    <tr>\n",
       "      <th>EmployeeNumber</th>\n",
       "      <td>1470.0</td>\n",
       "      <td>1024.865306</td>\n",
       "      <td>602.024335</td>\n",
       "      <td>1.0</td>\n",
       "      <td>491.25</td>\n",
       "      <td>1020.5</td>\n",
       "      <td>1555.75</td>\n",
       "      <td>2068.0</td>\n",
       "    </tr>\n",
       "    <tr>\n",
       "      <th>EnvironmentSatisfaction</th>\n",
       "      <td>1470.0</td>\n",
       "      <td>2.721769</td>\n",
       "      <td>1.093082</td>\n",
       "      <td>1.0</td>\n",
       "      <td>2.00</td>\n",
       "      <td>3.0</td>\n",
       "      <td>4.00</td>\n",
       "      <td>4.0</td>\n",
       "    </tr>\n",
       "    <tr>\n",
       "      <th>Gender</th>\n",
       "      <td>1470.0</td>\n",
       "      <td>0.600000</td>\n",
       "      <td>0.490065</td>\n",
       "      <td>0.0</td>\n",
       "      <td>0.00</td>\n",
       "      <td>1.0</td>\n",
       "      <td>1.00</td>\n",
       "      <td>1.0</td>\n",
       "    </tr>\n",
       "    <tr>\n",
       "      <th>HourlyRate</th>\n",
       "      <td>1470.0</td>\n",
       "      <td>65.891156</td>\n",
       "      <td>20.329428</td>\n",
       "      <td>30.0</td>\n",
       "      <td>48.00</td>\n",
       "      <td>66.0</td>\n",
       "      <td>83.75</td>\n",
       "      <td>100.0</td>\n",
       "    </tr>\n",
       "    <tr>\n",
       "      <th>JobInvolvement</th>\n",
       "      <td>1470.0</td>\n",
       "      <td>2.729932</td>\n",
       "      <td>0.711561</td>\n",
       "      <td>1.0</td>\n",
       "      <td>2.00</td>\n",
       "      <td>3.0</td>\n",
       "      <td>3.00</td>\n",
       "      <td>4.0</td>\n",
       "    </tr>\n",
       "    <tr>\n",
       "      <th>JobLevel</th>\n",
       "      <td>1470.0</td>\n",
       "      <td>2.063946</td>\n",
       "      <td>1.106940</td>\n",
       "      <td>1.0</td>\n",
       "      <td>1.00</td>\n",
       "      <td>2.0</td>\n",
       "      <td>3.00</td>\n",
       "      <td>5.0</td>\n",
       "    </tr>\n",
       "    <tr>\n",
       "      <th>JobRole</th>\n",
       "      <td>1470.0</td>\n",
       "      <td>4.458503</td>\n",
       "      <td>2.461821</td>\n",
       "      <td>0.0</td>\n",
       "      <td>2.00</td>\n",
       "      <td>5.0</td>\n",
       "      <td>7.00</td>\n",
       "      <td>8.0</td>\n",
       "    </tr>\n",
       "    <tr>\n",
       "      <th>JobSatisfaction</th>\n",
       "      <td>1470.0</td>\n",
       "      <td>2.728571</td>\n",
       "      <td>1.102846</td>\n",
       "      <td>1.0</td>\n",
       "      <td>2.00</td>\n",
       "      <td>3.0</td>\n",
       "      <td>4.00</td>\n",
       "      <td>4.0</td>\n",
       "    </tr>\n",
       "    <tr>\n",
       "      <th>MaritalStatus</th>\n",
       "      <td>1470.0</td>\n",
       "      <td>1.097279</td>\n",
       "      <td>0.730121</td>\n",
       "      <td>0.0</td>\n",
       "      <td>1.00</td>\n",
       "      <td>1.0</td>\n",
       "      <td>2.00</td>\n",
       "      <td>2.0</td>\n",
       "    </tr>\n",
       "    <tr>\n",
       "      <th>MonthlyIncome</th>\n",
       "      <td>1470.0</td>\n",
       "      <td>6502.931293</td>\n",
       "      <td>4707.956783</td>\n",
       "      <td>1009.0</td>\n",
       "      <td>2911.00</td>\n",
       "      <td>4919.0</td>\n",
       "      <td>8379.00</td>\n",
       "      <td>19999.0</td>\n",
       "    </tr>\n",
       "    <tr>\n",
       "      <th>MonthlyRate</th>\n",
       "      <td>1470.0</td>\n",
       "      <td>14313.103401</td>\n",
       "      <td>7117.786044</td>\n",
       "      <td>2094.0</td>\n",
       "      <td>8047.00</td>\n",
       "      <td>14235.5</td>\n",
       "      <td>20461.50</td>\n",
       "      <td>26999.0</td>\n",
       "    </tr>\n",
       "    <tr>\n",
       "      <th>NumCompaniesWorked</th>\n",
       "      <td>1470.0</td>\n",
       "      <td>2.693197</td>\n",
       "      <td>2.498009</td>\n",
       "      <td>0.0</td>\n",
       "      <td>1.00</td>\n",
       "      <td>2.0</td>\n",
       "      <td>4.00</td>\n",
       "      <td>9.0</td>\n",
       "    </tr>\n",
       "    <tr>\n",
       "      <th>OverTime</th>\n",
       "      <td>1470.0</td>\n",
       "      <td>0.282993</td>\n",
       "      <td>0.450606</td>\n",
       "      <td>0.0</td>\n",
       "      <td>0.00</td>\n",
       "      <td>0.0</td>\n",
       "      <td>1.00</td>\n",
       "      <td>1.0</td>\n",
       "    </tr>\n",
       "    <tr>\n",
       "      <th>PercentSalaryHike</th>\n",
       "      <td>1470.0</td>\n",
       "      <td>15.209524</td>\n",
       "      <td>3.659938</td>\n",
       "      <td>11.0</td>\n",
       "      <td>12.00</td>\n",
       "      <td>14.0</td>\n",
       "      <td>18.00</td>\n",
       "      <td>25.0</td>\n",
       "    </tr>\n",
       "    <tr>\n",
       "      <th>PerformanceRating</th>\n",
       "      <td>1470.0</td>\n",
       "      <td>3.153741</td>\n",
       "      <td>0.360824</td>\n",
       "      <td>3.0</td>\n",
       "      <td>3.00</td>\n",
       "      <td>3.0</td>\n",
       "      <td>3.00</td>\n",
       "      <td>4.0</td>\n",
       "    </tr>\n",
       "    <tr>\n",
       "      <th>RelationshipSatisfaction</th>\n",
       "      <td>1470.0</td>\n",
       "      <td>2.712245</td>\n",
       "      <td>1.081209</td>\n",
       "      <td>1.0</td>\n",
       "      <td>2.00</td>\n",
       "      <td>3.0</td>\n",
       "      <td>4.00</td>\n",
       "      <td>4.0</td>\n",
       "    </tr>\n",
       "    <tr>\n",
       "      <th>StockOptionLevel</th>\n",
       "      <td>1470.0</td>\n",
       "      <td>0.793878</td>\n",
       "      <td>0.852077</td>\n",
       "      <td>0.0</td>\n",
       "      <td>0.00</td>\n",
       "      <td>1.0</td>\n",
       "      <td>1.00</td>\n",
       "      <td>3.0</td>\n",
       "    </tr>\n",
       "    <tr>\n",
       "      <th>TotalWorkingYears</th>\n",
       "      <td>1470.0</td>\n",
       "      <td>11.279592</td>\n",
       "      <td>7.780782</td>\n",
       "      <td>0.0</td>\n",
       "      <td>6.00</td>\n",
       "      <td>10.0</td>\n",
       "      <td>15.00</td>\n",
       "      <td>40.0</td>\n",
       "    </tr>\n",
       "    <tr>\n",
       "      <th>TrainingTimesLastYear</th>\n",
       "      <td>1470.0</td>\n",
       "      <td>2.799320</td>\n",
       "      <td>1.289271</td>\n",
       "      <td>0.0</td>\n",
       "      <td>2.00</td>\n",
       "      <td>3.0</td>\n",
       "      <td>3.00</td>\n",
       "      <td>6.0</td>\n",
       "    </tr>\n",
       "    <tr>\n",
       "      <th>WorkLifeBalance</th>\n",
       "      <td>1470.0</td>\n",
       "      <td>2.761224</td>\n",
       "      <td>0.706476</td>\n",
       "      <td>1.0</td>\n",
       "      <td>2.00</td>\n",
       "      <td>3.0</td>\n",
       "      <td>3.00</td>\n",
       "      <td>4.0</td>\n",
       "    </tr>\n",
       "    <tr>\n",
       "      <th>YearsAtCompany</th>\n",
       "      <td>1470.0</td>\n",
       "      <td>7.008163</td>\n",
       "      <td>6.126525</td>\n",
       "      <td>0.0</td>\n",
       "      <td>3.00</td>\n",
       "      <td>5.0</td>\n",
       "      <td>9.00</td>\n",
       "      <td>40.0</td>\n",
       "    </tr>\n",
       "    <tr>\n",
       "      <th>YearsInCurrentRole</th>\n",
       "      <td>1470.0</td>\n",
       "      <td>4.229252</td>\n",
       "      <td>3.623137</td>\n",
       "      <td>0.0</td>\n",
       "      <td>2.00</td>\n",
       "      <td>3.0</td>\n",
       "      <td>7.00</td>\n",
       "      <td>18.0</td>\n",
       "    </tr>\n",
       "    <tr>\n",
       "      <th>YearsSinceLastPromotion</th>\n",
       "      <td>1470.0</td>\n",
       "      <td>2.187755</td>\n",
       "      <td>3.222430</td>\n",
       "      <td>0.0</td>\n",
       "      <td>0.00</td>\n",
       "      <td>1.0</td>\n",
       "      <td>3.00</td>\n",
       "      <td>15.0</td>\n",
       "    </tr>\n",
       "    <tr>\n",
       "      <th>YearsWithCurrManager</th>\n",
       "      <td>1470.0</td>\n",
       "      <td>4.123129</td>\n",
       "      <td>3.568136</td>\n",
       "      <td>0.0</td>\n",
       "      <td>2.00</td>\n",
       "      <td>3.0</td>\n",
       "      <td>7.00</td>\n",
       "      <td>17.0</td>\n",
       "    </tr>\n",
       "  </tbody>\n",
       "</table>\n",
       "</div>"
      ],
      "text/plain": [
       "                           count          mean          std     min      25%  \\\n",
       "Age                       1470.0     36.923810     9.135373    18.0    30.00   \n",
       "Attrition                 1470.0      0.161224     0.367863     0.0     0.00   \n",
       "BusinessTravel            1470.0      1.607483     0.665455     0.0     1.00   \n",
       "DailyRate                 1470.0    802.485714   403.509100   102.0   465.00   \n",
       "Department                1470.0      1.260544     0.527792     0.0     1.00   \n",
       "DistanceFromHome          1470.0      9.192517     8.106864     1.0     2.00   \n",
       "Education                 1470.0      2.912925     1.024165     1.0     2.00   \n",
       "EducationField            1470.0      2.247619     1.331369     0.0     1.00   \n",
       "EmployeeNumber            1470.0   1024.865306   602.024335     1.0   491.25   \n",
       "EnvironmentSatisfaction   1470.0      2.721769     1.093082     1.0     2.00   \n",
       "Gender                    1470.0      0.600000     0.490065     0.0     0.00   \n",
       "HourlyRate                1470.0     65.891156    20.329428    30.0    48.00   \n",
       "JobInvolvement            1470.0      2.729932     0.711561     1.0     2.00   \n",
       "JobLevel                  1470.0      2.063946     1.106940     1.0     1.00   \n",
       "JobRole                   1470.0      4.458503     2.461821     0.0     2.00   \n",
       "JobSatisfaction           1470.0      2.728571     1.102846     1.0     2.00   \n",
       "MaritalStatus             1470.0      1.097279     0.730121     0.0     1.00   \n",
       "MonthlyIncome             1470.0   6502.931293  4707.956783  1009.0  2911.00   \n",
       "MonthlyRate               1470.0  14313.103401  7117.786044  2094.0  8047.00   \n",
       "NumCompaniesWorked        1470.0      2.693197     2.498009     0.0     1.00   \n",
       "OverTime                  1470.0      0.282993     0.450606     0.0     0.00   \n",
       "PercentSalaryHike         1470.0     15.209524     3.659938    11.0    12.00   \n",
       "PerformanceRating         1470.0      3.153741     0.360824     3.0     3.00   \n",
       "RelationshipSatisfaction  1470.0      2.712245     1.081209     1.0     2.00   \n",
       "StockOptionLevel          1470.0      0.793878     0.852077     0.0     0.00   \n",
       "TotalWorkingYears         1470.0     11.279592     7.780782     0.0     6.00   \n",
       "TrainingTimesLastYear     1470.0      2.799320     1.289271     0.0     2.00   \n",
       "WorkLifeBalance           1470.0      2.761224     0.706476     1.0     2.00   \n",
       "YearsAtCompany            1470.0      7.008163     6.126525     0.0     3.00   \n",
       "YearsInCurrentRole        1470.0      4.229252     3.623137     0.0     2.00   \n",
       "YearsSinceLastPromotion   1470.0      2.187755     3.222430     0.0     0.00   \n",
       "YearsWithCurrManager      1470.0      4.123129     3.568136     0.0     2.00   \n",
       "\n",
       "                              50%       75%      max  \n",
       "Age                          36.0     43.00     60.0  \n",
       "Attrition                     0.0      0.00      1.0  \n",
       "BusinessTravel                2.0      2.00      2.0  \n",
       "DailyRate                   802.0   1157.00   1499.0  \n",
       "Department                    1.0      2.00      2.0  \n",
       "DistanceFromHome              7.0     14.00     29.0  \n",
       "Education                     3.0      4.00      5.0  \n",
       "EducationField                2.0      3.00      5.0  \n",
       "EmployeeNumber             1020.5   1555.75   2068.0  \n",
       "EnvironmentSatisfaction       3.0      4.00      4.0  \n",
       "Gender                        1.0      1.00      1.0  \n",
       "HourlyRate                   66.0     83.75    100.0  \n",
       "JobInvolvement                3.0      3.00      4.0  \n",
       "JobLevel                      2.0      3.00      5.0  \n",
       "JobRole                       5.0      7.00      8.0  \n",
       "JobSatisfaction               3.0      4.00      4.0  \n",
       "MaritalStatus                 1.0      2.00      2.0  \n",
       "MonthlyIncome              4919.0   8379.00  19999.0  \n",
       "MonthlyRate               14235.5  20461.50  26999.0  \n",
       "NumCompaniesWorked            2.0      4.00      9.0  \n",
       "OverTime                      0.0      1.00      1.0  \n",
       "PercentSalaryHike            14.0     18.00     25.0  \n",
       "PerformanceRating             3.0      3.00      4.0  \n",
       "RelationshipSatisfaction      3.0      4.00      4.0  \n",
       "StockOptionLevel              1.0      1.00      3.0  \n",
       "TotalWorkingYears            10.0     15.00     40.0  \n",
       "TrainingTimesLastYear         3.0      3.00      6.0  \n",
       "WorkLifeBalance               3.0      3.00      4.0  \n",
       "YearsAtCompany                5.0      9.00     40.0  \n",
       "YearsInCurrentRole            3.0      7.00     18.0  \n",
       "YearsSinceLastPromotion       1.0      3.00     15.0  \n",
       "YearsWithCurrManager          3.0      7.00     17.0  "
      ]
     },
     "execution_count": 161,
     "metadata": {},
     "output_type": "execute_result"
    }
   ],
   "source": [
    "df.describe().T"
   ]
  },
  {
   "cell_type": "markdown",
   "id": "dd0cf9c9",
   "metadata": {},
   "source": [
    "Not much skewness is observed, as there is very less difference between the mean and median of all the features.\n",
    "\n",
    "Outliers may be present in 'DailyRate', 'EmployeeNumber', 'HourlyRate', 'MonthlyIncome', 'TotalWorkingYears', 'YearsAtCompany', 'YearsSinceLastPromotion' because there is much difference between 75th percentile and max value."
   ]
  },
  {
   "cell_type": "code",
   "execution_count": 157,
   "id": "bd615721",
   "metadata": {},
   "outputs": [
    {
     "data": {
      "text/plain": [
       "Age                         0.413286\n",
       "Attrition                   1.844366\n",
       "BusinessTravel             -1.439006\n",
       "DailyRate                  -0.003519\n",
       "Department                  0.172231\n",
       "DistanceFromHome            0.958118\n",
       "Education                  -0.289681\n",
       "EducationField              0.550371\n",
       "EmployeeNumber              0.016574\n",
       "EnvironmentSatisfaction    -0.321654\n",
       "Gender                     -0.408665\n",
       "HourlyRate                 -0.032311\n",
       "JobInvolvement             -0.498419\n",
       "JobLevel                    1.025401\n",
       "JobRole                    -0.357270\n",
       "JobSatisfaction            -0.329672\n",
       "MaritalStatus              -0.152175\n",
       "MonthlyIncome               1.369817\n",
       "MonthlyRate                 0.018578\n",
       "NumCompaniesWorked          1.026471\n",
       "OverTime                    0.964489\n",
       "PercentSalaryHike           0.821128\n",
       "PerformanceRating           1.921883\n",
       "RelationshipSatisfaction   -0.302828\n",
       "StockOptionLevel            0.968980\n",
       "TotalWorkingYears           1.117172\n",
       "TrainingTimesLastYear       0.553124\n",
       "WorkLifeBalance            -0.552480\n",
       "YearsAtCompany              1.764529\n",
       "YearsInCurrentRole          0.917363\n",
       "YearsSinceLastPromotion     1.984290\n",
       "YearsWithCurrManager        0.833451\n",
       "dtype: float64"
      ]
     },
     "execution_count": 157,
     "metadata": {},
     "output_type": "execute_result"
    }
   ],
   "source": [
    "# To check skewness :\n",
    "\n",
    "df.skew()"
   ]
  },
  {
   "cell_type": "markdown",
   "id": "0660ab8c",
   "metadata": {},
   "source": [
    "The data is fairly symmetrical if the skewness is between +/-0.5.\n",
    "\n",
    "If the skewness is between -1 and – 0.5 or between 0.5 and 1, then there is a little decent skewness.\n",
    "\n",
    "If the skewness is less than -1 or greater than 1, the data are highly skewed.\n",
    "\n",
    "Observations :\n",
    "    \n",
    "    'Attrition', 'BusinessTravel', 'JobLevel', 'MonthlyIncome', 'NumCompaniesWorked', 'PerformanceRating', 'TotalWorkingYears', 'YearsAtCompany', 'YearsSinceLastPromotion' are some features   with skewness."
   ]
  },
  {
   "cell_type": "code",
   "execution_count": 162,
   "id": "3187febc",
   "metadata": {},
   "outputs": [],
   "source": [
    "# First lets import required library\n",
    "\n",
    "import numpy as np"
   ]
  },
  {
   "cell_type": "code",
   "execution_count": 163,
   "id": "8dcf9180",
   "metadata": {},
   "outputs": [],
   "source": [
    "df['Attrition']=np.sqrt(df['Attrition'])\n",
    "df['BusinessTravel']=np.sqrt(df['BusinessTravel'])\n",
    "df['JobLevel']=np.sqrt(df['JobLevel'])\n",
    "df['MonthlyIncome']=np.sqrt(df['MonthlyIncome'])\n",
    "df['NumCompaniesWorked']=np.sqrt(df['NumCompaniesWorked'])\n",
    "df['PerformanceRating']=np.sqrt(df['PerformanceRating'])\n",
    "df['TotalWorkingYears']=np.sqrt(df['TotalWorkingYears'])\n",
    "df['YearsAtCompany']=np.sqrt(df['YearsAtCompany'])\n",
    "df['YearsSinceLastPromotion']=np.sqrt(df['YearsSinceLastPromotion'])"
   ]
  },
  {
   "cell_type": "code",
   "execution_count": 164,
   "id": "0ea479c2",
   "metadata": {},
   "outputs": [
    {
     "data": {
      "text/plain": [
       "Age                         0.413286\n",
       "Attrition                   1.844366\n",
       "BusinessTravel             -2.059006\n",
       "DailyRate                  -0.003519\n",
       "Department                  0.172231\n",
       "DistanceFromHome            0.958118\n",
       "Education                  -0.289681\n",
       "EducationField              0.550371\n",
       "EmployeeNumber              0.016574\n",
       "EnvironmentSatisfaction    -0.321654\n",
       "Gender                     -0.408665\n",
       "HourlyRate                 -0.032311\n",
       "JobInvolvement             -0.498419\n",
       "JobLevel                    0.593923\n",
       "JobRole                    -0.357270\n",
       "JobSatisfaction            -0.329672\n",
       "MaritalStatus              -0.152175\n",
       "MonthlyIncome               0.861960\n",
       "MonthlyRate                 0.018578\n",
       "NumCompaniesWorked          0.031303\n",
       "OverTime                    0.964489\n",
       "PercentSalaryHike           0.821128\n",
       "PerformanceRating           1.921883\n",
       "RelationshipSatisfaction   -0.302828\n",
       "StockOptionLevel            0.968980\n",
       "TotalWorkingYears           0.176358\n",
       "TrainingTimesLastYear       0.553124\n",
       "WorkLifeBalance            -0.552480\n",
       "YearsAtCompany              0.426835\n",
       "YearsInCurrentRole          0.917363\n",
       "YearsSinceLastPromotion     0.739126\n",
       "YearsWithCurrManager        0.833451\n",
       "dtype: float64"
      ]
     },
     "execution_count": 164,
     "metadata": {},
     "output_type": "execute_result"
    }
   ],
   "source": [
    "df.skew()"
   ]
  },
  {
   "cell_type": "markdown",
   "id": "d3c087a4",
   "metadata": {},
   "source": [
    "So here we can observe that the skewness has reduced to much extend, but still some skewness is visible. But i would like to proceed further with these values and work on it later in the project."
   ]
  },
  {
   "cell_type": "markdown",
   "id": "e7ae1f02",
   "metadata": {},
   "source": [
    "# Detecting Outliers :"
   ]
  },
  {
   "cell_type": "code",
   "execution_count": 165,
   "id": "5725c379",
   "metadata": {},
   "outputs": [
    {
     "data": {
      "text/plain": [
       "Age                            AxesSubplot(0.125,0.799681;0.168478x0.0803191)\n",
       "Attrition                   AxesSubplot(0.327174,0.799681;0.168478x0.0803191)\n",
       "BusinessTravel              AxesSubplot(0.529348,0.799681;0.168478x0.0803191)\n",
       "DailyRate                   AxesSubplot(0.731522,0.799681;0.168478x0.0803191)\n",
       "Department                     AxesSubplot(0.125,0.703298;0.168478x0.0803191)\n",
       "DistanceFromHome            AxesSubplot(0.327174,0.703298;0.168478x0.0803191)\n",
       "Education                   AxesSubplot(0.529348,0.703298;0.168478x0.0803191)\n",
       "EducationField              AxesSubplot(0.731522,0.703298;0.168478x0.0803191)\n",
       "EmployeeNumber                 AxesSubplot(0.125,0.606915;0.168478x0.0803191)\n",
       "EnvironmentSatisfaction     AxesSubplot(0.327174,0.606915;0.168478x0.0803191)\n",
       "Gender                      AxesSubplot(0.529348,0.606915;0.168478x0.0803191)\n",
       "HourlyRate                  AxesSubplot(0.731522,0.606915;0.168478x0.0803191)\n",
       "JobInvolvement                 AxesSubplot(0.125,0.510532;0.168478x0.0803191)\n",
       "JobLevel                    AxesSubplot(0.327174,0.510532;0.168478x0.0803191)\n",
       "JobRole                     AxesSubplot(0.529348,0.510532;0.168478x0.0803191)\n",
       "JobSatisfaction             AxesSubplot(0.731522,0.510532;0.168478x0.0803191)\n",
       "MaritalStatus                  AxesSubplot(0.125,0.414149;0.168478x0.0803191)\n",
       "MonthlyIncome               AxesSubplot(0.327174,0.414149;0.168478x0.0803191)\n",
       "MonthlyRate                 AxesSubplot(0.529348,0.414149;0.168478x0.0803191)\n",
       "NumCompaniesWorked          AxesSubplot(0.731522,0.414149;0.168478x0.0803191)\n",
       "OverTime                       AxesSubplot(0.125,0.317766;0.168478x0.0803191)\n",
       "PercentSalaryHike           AxesSubplot(0.327174,0.317766;0.168478x0.0803191)\n",
       "PerformanceRating           AxesSubplot(0.529348,0.317766;0.168478x0.0803191)\n",
       "RelationshipSatisfaction    AxesSubplot(0.731522,0.317766;0.168478x0.0803191)\n",
       "StockOptionLevel               AxesSubplot(0.125,0.221383;0.168478x0.0803191)\n",
       "TotalWorkingYears           AxesSubplot(0.327174,0.221383;0.168478x0.0803191)\n",
       "TrainingTimesLastYear       AxesSubplot(0.529348,0.221383;0.168478x0.0803191)\n",
       "WorkLifeBalance             AxesSubplot(0.731522,0.221383;0.168478x0.0803191)\n",
       "YearsAtCompany                    AxesSubplot(0.125,0.125;0.168478x0.0803191)\n",
       "YearsInCurrentRole             AxesSubplot(0.327174,0.125;0.168478x0.0803191)\n",
       "YearsSinceLastPromotion        AxesSubplot(0.529348,0.125;0.168478x0.0803191)\n",
       "YearsWithCurrManager           AxesSubplot(0.731522,0.125;0.168478x0.0803191)\n",
       "dtype: object"
      ]
     },
     "execution_count": 165,
     "metadata": {},
     "output_type": "execute_result"
    },
    {
     "data": {
      "image/png": "[encoded data removed]",
      "text/plain": [
       "<Figure size 1440x1800 with 32 Axes>"
      ]
     },
     "metadata": {
      "needs_background": "light"
     },
     "output_type": "display_data"
    }
   ],
   "source": [
    "df.plot(kind='box', subplots=True, layout=(8,4), figsize=(20,25), colormap='YlOrRd_r')"
   ]
  },
  {
   "cell_type": "markdown",
   "id": "6a659034",
   "metadata": {},
   "source": [
    "As we can observe here, there are some outliers present in some of the features.\n",
    "\n",
    "And we need to remove them.\n"
   ]
  },
  {
   "cell_type": "code",
   "execution_count": 166,
   "id": "057947eb",
   "metadata": {},
   "outputs": [],
   "source": [
    "# Importing required zscore library\n",
    "\n",
    "from scipy.stats import zscore\n",
    "import numpy as np"
   ]
  },
  {
   "cell_type": "code",
   "execution_count": 167,
   "id": "c8d227e4",
   "metadata": {},
   "outputs": [],
   "source": [
    "z=np.abs(zscore(df))"
   ]
  },
  {
   "cell_type": "code",
   "execution_count": 168,
   "id": "704999a1",
   "metadata": {},
   "outputs": [],
   "source": [
    "threshold=3"
   ]
  },
  {
   "cell_type": "code",
   "execution_count": 169,
   "id": "fca495c6",
   "metadata": {},
   "outputs": [],
   "source": [
    "df_new=df[(z<3).all(axis=1)] "
   ]
  },
  {
   "cell_type": "code",
   "execution_count": 170,
   "id": "fca473ce",
   "metadata": {},
   "outputs": [
    {
     "name": "stdout",
     "output_type": "stream",
     "text": [
      "Shape of original dataframe (1470, 32)\n"
     ]
    }
   ],
   "source": [
    "print('Shape of original dataframe', df.shape)"
   ]
  },
  {
   "cell_type": "code",
   "execution_count": 171,
   "id": "eab365a3",
   "metadata": {},
   "outputs": [
    {
     "name": "stdout",
     "output_type": "stream",
     "text": [
      "Shape of dataframe after outliers removal (1437, 32)\n"
     ]
    }
   ],
   "source": [
    "print('Shape of dataframe after outliers removal', df_new.shape)"
   ]
  },
  {
   "cell_type": "code",
   "execution_count": 172,
   "id": "b41ab71d",
   "metadata": {},
   "outputs": [
    {
     "name": "stdout",
     "output_type": "stream",
     "text": [
      "Data loss percentage  2.2448979591836733\n"
     ]
    }
   ],
   "source": [
    "# Data loss percentage\n",
    "\n",
    "loss=((1470-1437)/1470)*100\n",
    "print('Data loss percentage ',loss)"
   ]
  },
  {
   "cell_type": "markdown",
   "id": "900d2ca1",
   "metadata": {},
   "source": [
    "Here we can see the difference between our original df shape and df_new shape, and the percentage of data loss. Much of the outliers are removed with 2.24% and we can't afford to lose more data and will proceed further with these values."
   ]
  },
  {
   "cell_type": "code",
   "execution_count": 173,
   "id": "f124d8d7",
   "metadata": {},
   "outputs": [],
   "source": [
    "df=df_new"
   ]
  },
  {
   "cell_type": "code",
   "execution_count": 174,
   "id": "09467a39",
   "metadata": {},
   "outputs": [
    {
     "data": {
      "text/plain": [
       "(1437, 32)"
      ]
     },
     "execution_count": 174,
     "metadata": {},
     "output_type": "execute_result"
    }
   ],
   "source": [
    "df.shape"
   ]
  },
  {
   "cell_type": "markdown",
   "id": "0fc37aee",
   "metadata": {},
   "source": [
    "# Feature Scaling :\n",
    "To transform the dataset into same format, so that we have a uniform dataset."
   ]
  },
  {
   "cell_type": "code",
   "execution_count": 175,
   "id": "ad234fa5",
   "metadata": {},
   "outputs": [],
   "source": [
    "# Importing required scaler library\n",
    "\n",
    "from sklearn.preprocessing import StandardScaler"
   ]
  },
  {
   "cell_type": "code",
   "execution_count": 176,
   "id": "232a3ae9",
   "metadata": {},
   "outputs": [],
   "source": [
    "x=df.drop('Attrition',axis=1)\n",
    "y=df['Attrition']"
   ]
  },
  {
   "cell_type": "code",
   "execution_count": 177,
   "id": "20a3b643",
   "metadata": {},
   "outputs": [
    {
     "data": {
      "text/html": [
       "<div>\n",
       "<style scoped>\n",
       "    .dataframe tbody tr th:only-of-type {\n",
       "        vertical-align: middle;\n",
       "    }\n",
       "\n",
       "    .dataframe tbody tr th {\n",
       "        vertical-align: top;\n",
       "    }\n",
       "\n",
       "    .dataframe thead th {\n",
       "        text-align: right;\n",
       "    }\n",
       "</style>\n",
       "<table border=\"1\" class=\"dataframe\">\n",
       "  <thead>\n",
       "    <tr style=\"text-align: right;\">\n",
       "      <th></th>\n",
       "      <th>Age</th>\n",
       "      <th>BusinessTravel</th>\n",
       "      <th>DailyRate</th>\n",
       "      <th>Department</th>\n",
       "      <th>DistanceFromHome</th>\n",
       "      <th>Education</th>\n",
       "      <th>EducationField</th>\n",
       "      <th>EmployeeNumber</th>\n",
       "      <th>EnvironmentSatisfaction</th>\n",
       "      <th>Gender</th>\n",
       "      <th>...</th>\n",
       "      <th>PerformanceRating</th>\n",
       "      <th>RelationshipSatisfaction</th>\n",
       "      <th>StockOptionLevel</th>\n",
       "      <th>TotalWorkingYears</th>\n",
       "      <th>TrainingTimesLastYear</th>\n",
       "      <th>WorkLifeBalance</th>\n",
       "      <th>YearsAtCompany</th>\n",
       "      <th>YearsInCurrentRole</th>\n",
       "      <th>YearsSinceLastPromotion</th>\n",
       "      <th>YearsWithCurrManager</th>\n",
       "    </tr>\n",
       "  </thead>\n",
       "  <tbody>\n",
       "    <tr>\n",
       "      <th>0</th>\n",
       "      <td>0.478523</td>\n",
       "      <td>0.517466</td>\n",
       "      <td>0.734413</td>\n",
       "      <td>1.400930</td>\n",
       "      <td>-1.011039</td>\n",
       "      <td>-0.883641</td>\n",
       "      <td>-0.936695</td>\n",
       "      <td>-1.707827</td>\n",
       "      <td>-0.663632</td>\n",
       "      <td>-1.226167</td>\n",
       "      <td>...</td>\n",
       "      <td>-0.426314</td>\n",
       "      <td>-1.582819</td>\n",
       "      <td>-0.929005</td>\n",
       "      <td>-0.246023</td>\n",
       "      <td>-2.165975</td>\n",
       "      <td>-2.487002</td>\n",
       "      <td>0.097079</td>\n",
       "      <td>-0.015931</td>\n",
       "      <td>-0.983573</td>\n",
       "      <td>0.315327</td>\n",
       "    </tr>\n",
       "    <tr>\n",
       "      <th>1</th>\n",
       "      <td>1.364226</td>\n",
       "      <td>-0.439683</td>\n",
       "      <td>-1.308248</td>\n",
       "      <td>-0.492895</td>\n",
       "      <td>-0.144323</td>\n",
       "      <td>-1.861909</td>\n",
       "      <td>-0.936695</td>\n",
       "      <td>-1.706164</td>\n",
       "      <td>0.254211</td>\n",
       "      <td>0.815550</td>\n",
       "      <td>...</td>\n",
       "      <td>2.345690</td>\n",
       "      <td>1.189848</td>\n",
       "      <td>0.237936</td>\n",
       "      <td>0.049991</td>\n",
       "      <td>0.153905</td>\n",
       "      <td>0.344870</td>\n",
       "      <td>0.776921</td>\n",
       "      <td>0.864567</td>\n",
       "      <td>-0.009715</td>\n",
       "      <td>0.913510</td>\n",
       "    </tr>\n",
       "    <tr>\n",
       "      <th>2</th>\n",
       "      <td>0.035672</td>\n",
       "      <td>0.517466</td>\n",
       "      <td>1.407026</td>\n",
       "      <td>-0.492895</td>\n",
       "      <td>-0.887222</td>\n",
       "      <td>-0.883641</td>\n",
       "      <td>1.315448</td>\n",
       "      <td>-1.702837</td>\n",
       "      <td>1.172054</td>\n",
       "      <td>0.815550</td>\n",
       "      <td>...</td>\n",
       "      <td>-0.426314</td>\n",
       "      <td>-0.658597</td>\n",
       "      <td>-0.929005</td>\n",
       "      <td>-0.407995</td>\n",
       "      <td>0.153905</td>\n",
       "      <td>0.344870</td>\n",
       "      <td>-2.239193</td>\n",
       "      <td>-1.189929</td>\n",
       "      <td>-0.983573</td>\n",
       "      <td>-1.180133</td>\n",
       "    </tr>\n",
       "    <tr>\n",
       "      <th>3</th>\n",
       "      <td>-0.407180</td>\n",
       "      <td>-0.439683</td>\n",
       "      <td>1.454184</td>\n",
       "      <td>-0.492895</td>\n",
       "      <td>-0.763406</td>\n",
       "      <td>1.072895</td>\n",
       "      <td>-0.936695</td>\n",
       "      <td>-1.701174</td>\n",
       "      <td>1.172054</td>\n",
       "      <td>-1.226167</td>\n",
       "      <td>...</td>\n",
       "      <td>-0.426314</td>\n",
       "      <td>0.265625</td>\n",
       "      <td>-0.929005</td>\n",
       "      <td>-0.246023</td>\n",
       "      <td>0.153905</td>\n",
       "      <td>0.344870</td>\n",
       "      <td>0.458501</td>\n",
       "      <td>0.864567</td>\n",
       "      <td>0.703198</td>\n",
       "      <td>-1.180133</td>\n",
       "    </tr>\n",
       "    <tr>\n",
       "      <th>4</th>\n",
       "      <td>-1.071457</td>\n",
       "      <td>0.517466</td>\n",
       "      <td>-0.533874</td>\n",
       "      <td>-0.492895</td>\n",
       "      <td>-0.887222</td>\n",
       "      <td>-1.861909</td>\n",
       "      <td>0.564734</td>\n",
       "      <td>-1.697847</td>\n",
       "      <td>-1.581475</td>\n",
       "      <td>0.815550</td>\n",
       "      <td>...</td>\n",
       "      <td>-0.426314</td>\n",
       "      <td>1.189848</td>\n",
       "      <td>0.237936</td>\n",
       "      <td>-0.582013</td>\n",
       "      <td>0.153905</td>\n",
       "      <td>0.344870</td>\n",
       "      <td>-0.890346</td>\n",
       "      <td>-0.602930</td>\n",
       "      <td>0.393670</td>\n",
       "      <td>-0.581949</td>\n",
       "    </tr>\n",
       "    <tr>\n",
       "      <th>5</th>\n",
       "      <td>-0.517893</td>\n",
       "      <td>-0.439683</td>\n",
       "      <td>0.493661</td>\n",
       "      <td>-0.492895</td>\n",
       "      <td>-0.887222</td>\n",
       "      <td>-0.883641</td>\n",
       "      <td>-0.936695</td>\n",
       "      <td>-1.696184</td>\n",
       "      <td>1.172054</td>\n",
       "      <td>0.815550</td>\n",
       "      <td>...</td>\n",
       "      <td>-0.426314</td>\n",
       "      <td>0.265625</td>\n",
       "      <td>-0.929005</td>\n",
       "      <td>-0.246023</td>\n",
       "      <td>-0.619388</td>\n",
       "      <td>-1.071066</td>\n",
       "      <td>0.284269</td>\n",
       "      <td>0.864567</td>\n",
       "      <td>0.703198</td>\n",
       "      <td>0.614418</td>\n",
       "    </tr>\n",
       "    <tr>\n",
       "      <th>6</th>\n",
       "      <td>2.471355</td>\n",
       "      <td>0.517466</td>\n",
       "      <td>1.285410</td>\n",
       "      <td>-0.492895</td>\n",
       "      <td>-0.763406</td>\n",
       "      <td>0.094627</td>\n",
       "      <td>0.564734</td>\n",
       "      <td>-1.692857</td>\n",
       "      <td>0.254211</td>\n",
       "      <td>-1.226167</td>\n",
       "      <td>...</td>\n",
       "      <td>2.345690</td>\n",
       "      <td>-1.582819</td>\n",
       "      <td>2.571819</td>\n",
       "      <td>0.317607</td>\n",
       "      <td>0.153905</td>\n",
       "      <td>-1.071066</td>\n",
       "      <td>-1.285414</td>\n",
       "      <td>-1.189929</td>\n",
       "      <td>-0.983573</td>\n",
       "      <td>-1.180133</td>\n",
       "    </tr>\n",
       "    <tr>\n",
       "      <th>7</th>\n",
       "      <td>-0.739319</td>\n",
       "      <td>0.517466</td>\n",
       "      <td>1.369797</td>\n",
       "      <td>-0.492895</td>\n",
       "      <td>1.836740</td>\n",
       "      <td>-1.861909</td>\n",
       "      <td>-0.936695</td>\n",
       "      <td>-1.691194</td>\n",
       "      <td>1.172054</td>\n",
       "      <td>0.815550</td>\n",
       "      <td>...</td>\n",
       "      <td>2.345690</td>\n",
       "      <td>-0.658597</td>\n",
       "      <td>0.237936</td>\n",
       "      <td>-1.867224</td>\n",
       "      <td>-0.619388</td>\n",
       "      <td>0.344870</td>\n",
       "      <td>-1.285414</td>\n",
       "      <td>-1.189929</td>\n",
       "      <td>-0.983573</td>\n",
       "      <td>-1.180133</td>\n",
       "    </tr>\n",
       "    <tr>\n",
       "      <th>8</th>\n",
       "      <td>0.146384</td>\n",
       "      <td>-0.439683</td>\n",
       "      <td>-1.464612</td>\n",
       "      <td>-0.492895</td>\n",
       "      <td>1.712924</td>\n",
       "      <td>0.094627</td>\n",
       "      <td>-0.936695</td>\n",
       "      <td>-1.689531</td>\n",
       "      <td>1.172054</td>\n",
       "      <td>0.815550</td>\n",
       "      <td>...</td>\n",
       "      <td>2.345690</td>\n",
       "      <td>-0.658597</td>\n",
       "      <td>-0.929005</td>\n",
       "      <td>0.049991</td>\n",
       "      <td>-0.619388</td>\n",
       "      <td>0.344870</td>\n",
       "      <td>0.622144</td>\n",
       "      <td>0.864567</td>\n",
       "      <td>-0.009715</td>\n",
       "      <td>1.212602</td>\n",
       "    </tr>\n",
       "    <tr>\n",
       "      <th>9</th>\n",
       "      <td>-0.075041</td>\n",
       "      <td>0.517466</td>\n",
       "      <td>1.223360</td>\n",
       "      <td>-0.492895</td>\n",
       "      <td>2.208190</td>\n",
       "      <td>0.094627</td>\n",
       "      <td>0.564734</td>\n",
       "      <td>-1.687867</td>\n",
       "      <td>0.254211</td>\n",
       "      <td>0.815550</td>\n",
       "      <td>...</td>\n",
       "      <td>-0.426314</td>\n",
       "      <td>-0.658597</td>\n",
       "      <td>1.404877</td>\n",
       "      <td>0.901922</td>\n",
       "      <td>0.153905</td>\n",
       "      <td>-1.071066</td>\n",
       "      <td>0.284269</td>\n",
       "      <td>0.864567</td>\n",
       "      <td>1.593012</td>\n",
       "      <td>0.913510</td>\n",
       "    </tr>\n",
       "  </tbody>\n",
       "</table>\n",
       "<p>10 rows × 31 columns</p>\n",
       "</div>"
      ],
      "text/plain": [
       "        Age  BusinessTravel  DailyRate  Department  DistanceFromHome  \\\n",
       "0  0.478523        0.517466   0.734413    1.400930         -1.011039   \n",
       "1  1.364226       -0.439683  -1.308248   -0.492895         -0.144323   \n",
       "2  0.035672        0.517466   1.407026   -0.492895         -0.887222   \n",
       "3 -0.407180       -0.439683   1.454184   -0.492895         -0.763406   \n",
       "4 -1.071457        0.517466  -0.533874   -0.492895         -0.887222   \n",
       "5 -0.517893       -0.439683   0.493661   -0.492895         -0.887222   \n",
       "6  2.471355        0.517466   1.285410   -0.492895         -0.763406   \n",
       "7 -0.739319        0.517466   1.369797   -0.492895          1.836740   \n",
       "8  0.146384       -0.439683  -1.464612   -0.492895          1.712924   \n",
       "9 -0.075041        0.517466   1.223360   -0.492895          2.208190   \n",
       "\n",
       "   Education  EducationField  EmployeeNumber  EnvironmentSatisfaction  \\\n",
       "0  -0.883641       -0.936695       -1.707827                -0.663632   \n",
       "1  -1.861909       -0.936695       -1.706164                 0.254211   \n",
       "2  -0.883641        1.315448       -1.702837                 1.172054   \n",
       "3   1.072895       -0.936695       -1.701174                 1.172054   \n",
       "4  -1.861909        0.564734       -1.697847                -1.581475   \n",
       "5  -0.883641       -0.936695       -1.696184                 1.172054   \n",
       "6   0.094627        0.564734       -1.692857                 0.254211   \n",
       "7  -1.861909       -0.936695       -1.691194                 1.172054   \n",
       "8   0.094627       -0.936695       -1.689531                 1.172054   \n",
       "9   0.094627        0.564734       -1.687867                 0.254211   \n",
       "\n",
       "     Gender  ...  PerformanceRating  RelationshipSatisfaction  \\\n",
       "0 -1.226167  ...          -0.426314                 -1.582819   \n",
       "1  0.815550  ...           2.345690                  1.189848   \n",
       "2  0.815550  ...          -0.426314                 -0.658597   \n",
       "3 -1.226167  ...          -0.426314                  0.265625   \n",
       "4  0.815550  ...          -0.426314                  1.189848   \n",
       "5  0.815550  ...          -0.426314                  0.265625   \n",
       "6 -1.226167  ...           2.345690                 -1.582819   \n",
       "7  0.815550  ...           2.345690                 -0.658597   \n",
       "8  0.815550  ...           2.345690                 -0.658597   \n",
       "9  0.815550  ...          -0.426314                 -0.658597   \n",
       "\n",
       "   StockOptionLevel  TotalWorkingYears  TrainingTimesLastYear  \\\n",
       "0         -0.929005          -0.246023              -2.165975   \n",
       "1          0.237936           0.049991               0.153905   \n",
       "2         -0.929005          -0.407995               0.153905   \n",
       "3         -0.929005          -0.246023               0.153905   \n",
       "4          0.237936          -0.582013               0.153905   \n",
       "5         -0.929005          -0.246023              -0.619388   \n",
       "6          2.571819           0.317607               0.153905   \n",
       "7          0.237936          -1.867224              -0.619388   \n",
       "8         -0.929005           0.049991              -0.619388   \n",
       "9          1.404877           0.901922               0.153905   \n",
       "\n",
       "   WorkLifeBalance  YearsAtCompany  YearsInCurrentRole  \\\n",
       "0        -2.487002        0.097079           -0.015931   \n",
       "1         0.344870        0.776921            0.864567   \n",
       "2         0.344870       -2.239193           -1.189929   \n",
       "3         0.344870        0.458501            0.864567   \n",
       "4         0.344870       -0.890346           -0.602930   \n",
       "5        -1.071066        0.284269            0.864567   \n",
       "6        -1.071066       -1.285414           -1.189929   \n",
       "7         0.344870       -1.285414           -1.189929   \n",
       "8         0.344870        0.622144            0.864567   \n",
       "9        -1.071066        0.284269            0.864567   \n",
       "\n",
       "   YearsSinceLastPromotion  YearsWithCurrManager  \n",
       "0                -0.983573              0.315327  \n",
       "1                -0.009715              0.913510  \n",
       "2                -0.983573             -1.180133  \n",
       "3                 0.703198             -1.180133  \n",
       "4                 0.393670             -0.581949  \n",
       "5                 0.703198              0.614418  \n",
       "6                -0.983573             -1.180133  \n",
       "7                -0.983573             -1.180133  \n",
       "8                -0.009715              1.212602  \n",
       "9                 1.593012              0.913510  \n",
       "\n",
       "[10 rows x 31 columns]"
      ]
     },
     "execution_count": 177,
     "metadata": {},
     "output_type": "execute_result"
    }
   ],
   "source": [
    "scale=StandardScaler()\n",
    "x=pd.DataFrame(scale.fit_transform(x), columns=x.columns)\n",
    "x.head(10)"
   ]
  },
  {
   "cell_type": "markdown",
   "id": "dafcf760",
   "metadata": {},
   "source": [
    "# Power Transformation :\n",
    "I will use Yeo-Johnson to transform this dataset so that the resulting features looks more normally distributed. And also reduce skewness and outliers."
   ]
  },
  {
   "cell_type": "code",
   "execution_count": 178,
   "id": "388b9401",
   "metadata": {},
   "outputs": [],
   "source": [
    "# First importing the required library for power transformation\n",
    "\n",
    "from sklearn.preprocessing import PowerTransformer"
   ]
  },
  {
   "cell_type": "code",
   "execution_count": 179,
   "id": "7cb107f8",
   "metadata": {},
   "outputs": [
    {
     "data": {
      "text/html": [
       "<div>\n",
       "<style scoped>\n",
       "    .dataframe tbody tr th:only-of-type {\n",
       "        vertical-align: middle;\n",
       "    }\n",
       "\n",
       "    .dataframe tbody tr th {\n",
       "        vertical-align: top;\n",
       "    }\n",
       "\n",
       "    .dataframe thead th {\n",
       "        text-align: right;\n",
       "    }\n",
       "</style>\n",
       "<table border=\"1\" class=\"dataframe\">\n",
       "  <thead>\n",
       "    <tr style=\"text-align: right;\">\n",
       "      <th></th>\n",
       "      <th>Age</th>\n",
       "      <th>BusinessTravel</th>\n",
       "      <th>DailyRate</th>\n",
       "      <th>Department</th>\n",
       "      <th>DistanceFromHome</th>\n",
       "      <th>Education</th>\n",
       "      <th>EducationField</th>\n",
       "      <th>EmployeeNumber</th>\n",
       "      <th>EnvironmentSatisfaction</th>\n",
       "      <th>Gender</th>\n",
       "      <th>...</th>\n",
       "      <th>PerformanceRating</th>\n",
       "      <th>RelationshipSatisfaction</th>\n",
       "      <th>StockOptionLevel</th>\n",
       "      <th>TotalWorkingYears</th>\n",
       "      <th>TrainingTimesLastYear</th>\n",
       "      <th>WorkLifeBalance</th>\n",
       "      <th>YearsAtCompany</th>\n",
       "      <th>YearsInCurrentRole</th>\n",
       "      <th>YearsSinceLastPromotion</th>\n",
       "      <th>YearsWithCurrManager</th>\n",
       "    </tr>\n",
       "  </thead>\n",
       "  <tbody>\n",
       "    <tr>\n",
       "      <th>0</th>\n",
       "      <td>0.565443</td>\n",
       "      <td>0.640459</td>\n",
       "      <td>0.732875</td>\n",
       "      <td>1.334798</td>\n",
       "      <td>-1.315450</td>\n",
       "      <td>-0.903432</td>\n",
       "      <td>-0.981564</td>\n",
       "      <td>-1.715876</td>\n",
       "      <td>-0.739617</td>\n",
       "      <td>-1.226167</td>\n",
       "      <td>...</td>\n",
       "      <td>-0.426314</td>\n",
       "      <td>-1.465107</td>\n",
       "      <td>-1.062635</td>\n",
       "      <td>-0.215031</td>\n",
       "      <td>-2.627074</td>\n",
       "      <td>-2.101611</td>\n",
       "      <td>0.149804</td>\n",
       "      <td>0.219342</td>\n",
       "      <td>-1.101859</td>\n",
       "      <td>0.531944</td>\n",
       "    </tr>\n",
       "    <tr>\n",
       "      <th>1</th>\n",
       "      <td>1.305708</td>\n",
       "      <td>-1.384197</td>\n",
       "      <td>-1.305570</td>\n",
       "      <td>-0.435690</td>\n",
       "      <td>0.172039</td>\n",
       "      <td>-1.719473</td>\n",
       "      <td>-0.981564</td>\n",
       "      <td>-1.714191</td>\n",
       "      <td>0.140905</td>\n",
       "      <td>0.815550</td>\n",
       "      <td>...</td>\n",
       "      <td>2.345690</td>\n",
       "      <td>1.274649</td>\n",
       "      <td>0.492715</td>\n",
       "      <td>0.084173</td>\n",
       "      <td>0.257334</td>\n",
       "      <td>0.254921</td>\n",
       "      <td>0.797929</td>\n",
       "      <td>0.974293</td>\n",
       "      <td>0.215062</td>\n",
       "      <td>1.000667</td>\n",
       "    </tr>\n",
       "    <tr>\n",
       "      <th>2</th>\n",
       "      <td>0.144744</td>\n",
       "      <td>0.640459</td>\n",
       "      <td>1.410711</td>\n",
       "      <td>-0.435690</td>\n",
       "      <td>-1.055715</td>\n",
       "      <td>-0.903432</td>\n",
       "      <td>1.264552</td>\n",
       "      <td>-1.710822</td>\n",
       "      <td>1.259918</td>\n",
       "      <td>0.815550</td>\n",
       "      <td>...</td>\n",
       "      <td>-0.426314</td>\n",
       "      <td>-0.729335</td>\n",
       "      <td>-1.062635</td>\n",
       "      <td>-0.381856</td>\n",
       "      <td>0.257334</td>\n",
       "      <td>0.254921</td>\n",
       "      <td>-2.453364</td>\n",
       "      <td>-1.462914</td>\n",
       "      <td>-1.101859</td>\n",
       "      <td>-1.419436</td>\n",
       "    </tr>\n",
       "    <tr>\n",
       "      <th>3</th>\n",
       "      <td>-0.328929</td>\n",
       "      <td>-1.384197</td>\n",
       "      <td>1.458318</td>\n",
       "      <td>-0.435690</td>\n",
       "      <td>-0.811621</td>\n",
       "      <td>1.105757</td>\n",
       "      <td>-0.981564</td>\n",
       "      <td>-1.709137</td>\n",
       "      <td>1.259918</td>\n",
       "      <td>-1.226167</td>\n",
       "      <td>...</td>\n",
       "      <td>-0.426314</td>\n",
       "      <td>0.161007</td>\n",
       "      <td>-1.062635</td>\n",
       "      <td>-0.215031</td>\n",
       "      <td>0.257334</td>\n",
       "      <td>0.254921</td>\n",
       "      <td>0.500169</td>\n",
       "      <td>0.974293</td>\n",
       "      <td>0.849193</td>\n",
       "      <td>-1.419436</td>\n",
       "    </tr>\n",
       "    <tr>\n",
       "      <th>4</th>\n",
       "      <td>-1.127581</td>\n",
       "      <td>0.640459</td>\n",
       "      <td>-0.536493</td>\n",
       "      <td>-0.435690</td>\n",
       "      <td>-1.055715</td>\n",
       "      <td>-1.719473</td>\n",
       "      <td>0.694040</td>\n",
       "      <td>-1.705768</td>\n",
       "      <td>-1.458459</td>\n",
       "      <td>0.815550</td>\n",
       "      <td>...</td>\n",
       "      <td>-0.426314</td>\n",
       "      <td>1.274649</td>\n",
       "      <td>0.492715</td>\n",
       "      <td>-0.563199</td>\n",
       "      <td>0.257334</td>\n",
       "      <td>0.254921</td>\n",
       "      <td>-0.891670</td>\n",
       "      <td>-0.520617</td>\n",
       "      <td>0.599336</td>\n",
       "      <td>-0.487353</td>\n",
       "    </tr>\n",
       "  </tbody>\n",
       "</table>\n",
       "<p>5 rows × 31 columns</p>\n",
       "</div>"
      ],
      "text/plain": [
       "        Age  BusinessTravel  DailyRate  Department  DistanceFromHome  \\\n",
       "0  0.565443        0.640459   0.732875    1.334798         -1.315450   \n",
       "1  1.305708       -1.384197  -1.305570   -0.435690          0.172039   \n",
       "2  0.144744        0.640459   1.410711   -0.435690         -1.055715   \n",
       "3 -0.328929       -1.384197   1.458318   -0.435690         -0.811621   \n",
       "4 -1.127581        0.640459  -0.536493   -0.435690         -1.055715   \n",
       "\n",
       "   Education  EducationField  EmployeeNumber  EnvironmentSatisfaction  \\\n",
       "0  -0.903432       -0.981564       -1.715876                -0.739617   \n",
       "1  -1.719473       -0.981564       -1.714191                 0.140905   \n",
       "2  -0.903432        1.264552       -1.710822                 1.259918   \n",
       "3   1.105757       -0.981564       -1.709137                 1.259918   \n",
       "4  -1.719473        0.694040       -1.705768                -1.458459   \n",
       "\n",
       "     Gender  ...  PerformanceRating  RelationshipSatisfaction  \\\n",
       "0 -1.226167  ...          -0.426314                 -1.465107   \n",
       "1  0.815550  ...           2.345690                  1.274649   \n",
       "2  0.815550  ...          -0.426314                 -0.729335   \n",
       "3 -1.226167  ...          -0.426314                  0.161007   \n",
       "4  0.815550  ...          -0.426314                  1.274649   \n",
       "\n",
       "   StockOptionLevel  TotalWorkingYears  TrainingTimesLastYear  \\\n",
       "0         -1.062635          -0.215031              -2.627074   \n",
       "1          0.492715           0.084173               0.257334   \n",
       "2         -1.062635          -0.381856               0.257334   \n",
       "3         -1.062635          -0.215031               0.257334   \n",
       "4          0.492715          -0.563199               0.257334   \n",
       "\n",
       "   WorkLifeBalance  YearsAtCompany  YearsInCurrentRole  \\\n",
       "0        -2.101611        0.149804            0.219342   \n",
       "1         0.254921        0.797929            0.974293   \n",
       "2         0.254921       -2.453364           -1.462914   \n",
       "3         0.254921        0.500169            0.974293   \n",
       "4         0.254921       -0.891670           -0.520617   \n",
       "\n",
       "   YearsSinceLastPromotion  YearsWithCurrManager  \n",
       "0                -1.101859              0.531944  \n",
       "1                 0.215062              1.000667  \n",
       "2                -1.101859             -1.419436  \n",
       "3                 0.849193             -1.419436  \n",
       "4                 0.599336             -0.487353  \n",
       "\n",
       "[5 rows x 31 columns]"
      ]
     },
     "execution_count": 179,
     "metadata": {},
     "output_type": "execute_result"
    }
   ],
   "source": [
    "power=PowerTransformer(method='yeo-johnson')\n",
    "x=pd.DataFrame(power.fit_transform(x), columns=x.columns)\n",
    "x.head()"
   ]
  },
  {
   "cell_type": "markdown",
   "id": "cbe0762c",
   "metadata": {},
   "source": [
    "# Principal Component Analysis :\n",
    "It allows to reduce the number of columns without dropping it. It will take those columns which are correlated and make them as one column."
   ]
  },
  {
   "cell_type": "code",
   "execution_count": 190,
   "id": "4179b9d7",
   "metadata": {},
   "outputs": [],
   "source": [
    "from sklearn.decomposition import PCA"
   ]
  },
  {
   "cell_type": "code",
   "execution_count": 191,
   "id": "47275d27",
   "metadata": {},
   "outputs": [],
   "source": [
    "pca=PCA(n_components=10)"
   ]
  },
  {
   "cell_type": "code",
   "execution_count": 192,
   "id": "820e3a75",
   "metadata": {},
   "outputs": [],
   "source": [
    "xpca=pca.fit_transform(x)"
   ]
  },
  {
   "cell_type": "code",
   "execution_count": 195,
   "id": "ab35978f",
   "metadata": {},
   "outputs": [],
   "source": [
    "x=xpca"
   ]
  },
  {
   "cell_type": "code",
   "execution_count": 196,
   "id": "16c3e172",
   "metadata": {},
   "outputs": [
    {
     "data": {
      "text/html": [
       "<div>\n",
       "<style scoped>\n",
       "    .dataframe tbody tr th:only-of-type {\n",
       "        vertical-align: middle;\n",
       "    }\n",
       "\n",
       "    .dataframe tbody tr th {\n",
       "        vertical-align: top;\n",
       "    }\n",
       "\n",
       "    .dataframe thead th {\n",
       "        text-align: right;\n",
       "    }\n",
       "</style>\n",
       "<table border=\"1\" class=\"dataframe\">\n",
       "  <thead>\n",
       "    <tr style=\"text-align: right;\">\n",
       "      <th></th>\n",
       "      <th>0</th>\n",
       "      <th>1</th>\n",
       "      <th>2</th>\n",
       "      <th>3</th>\n",
       "      <th>4</th>\n",
       "      <th>5</th>\n",
       "      <th>6</th>\n",
       "      <th>7</th>\n",
       "      <th>8</th>\n",
       "      <th>9</th>\n",
       "    </tr>\n",
       "  </thead>\n",
       "  <tbody>\n",
       "    <tr>\n",
       "      <th>0</th>\n",
       "      <td>5074.368744</td>\n",
       "      <td>1036.438002</td>\n",
       "      <td>255.719963</td>\n",
       "      <td>6.404520</td>\n",
       "      <td>-30.322285</td>\n",
       "      <td>-9.347056</td>\n",
       "      <td>2.318025</td>\n",
       "      <td>0.917661</td>\n",
       "      <td>-3.813400</td>\n",
       "      <td>-2.548957</td>\n",
       "    </tr>\n",
       "    <tr>\n",
       "      <th>1</th>\n",
       "      <td>10505.847657</td>\n",
       "      <td>958.586554</td>\n",
       "      <td>-540.285285</td>\n",
       "      <td>2.967744</td>\n",
       "      <td>0.380848</td>\n",
       "      <td>-4.264863</td>\n",
       "      <td>13.775102</td>\n",
       "      <td>5.753683</td>\n",
       "      <td>7.260790</td>\n",
       "      <td>-1.117421</td>\n",
       "    </tr>\n",
       "    <tr>\n",
       "      <th>2</th>\n",
       "      <td>-12009.607147</td>\n",
       "      <td>1089.022258</td>\n",
       "      <td>449.454207</td>\n",
       "      <td>-22.538503</td>\n",
       "      <td>-27.130721</td>\n",
       "      <td>-8.133771</td>\n",
       "      <td>4.965475</td>\n",
       "      <td>-3.854162</td>\n",
       "      <td>0.138319</td>\n",
       "      <td>2.109660</td>\n",
       "    </tr>\n",
       "    <tr>\n",
       "      <th>3</th>\n",
       "      <td>8753.062547</td>\n",
       "      <td>1048.568622</td>\n",
       "      <td>561.449550</td>\n",
       "      <td>-19.598686</td>\n",
       "      <td>8.219582</td>\n",
       "      <td>-6.769216</td>\n",
       "      <td>0.667247</td>\n",
       "      <td>2.298263</td>\n",
       "      <td>-4.096668</td>\n",
       "      <td>-1.313752</td>\n",
       "    </tr>\n",
       "    <tr>\n",
       "      <th>4</th>\n",
       "      <td>2229.589226</td>\n",
       "      <td>995.101596</td>\n",
       "      <td>-266.070354</td>\n",
       "      <td>-13.259807</td>\n",
       "      <td>22.704397</td>\n",
       "      <td>-6.317548</td>\n",
       "      <td>-6.112369</td>\n",
       "      <td>-0.860113</td>\n",
       "      <td>-2.835284</td>\n",
       "      <td>2.811370</td>\n",
       "    </tr>\n",
       "    <tr>\n",
       "      <th>...</th>\n",
       "      <td>...</td>\n",
       "      <td>...</td>\n",
       "      <td>...</td>\n",
       "      <td>...</td>\n",
       "      <td>...</td>\n",
       "      <td>...</td>\n",
       "      <td>...</td>\n",
       "      <td>...</td>\n",
       "      <td>...</td>\n",
       "      <td>...</td>\n",
       "    </tr>\n",
       "    <tr>\n",
       "      <th>2399</th>\n",
       "      <td>-7710.590627</td>\n",
       "      <td>299.297128</td>\n",
       "      <td>-113.474642</td>\n",
       "      <td>-18.118378</td>\n",
       "      <td>28.811919</td>\n",
       "      <td>-4.891376</td>\n",
       "      <td>-1.921098</td>\n",
       "      <td>-2.918096</td>\n",
       "      <td>-3.930952</td>\n",
       "      <td>2.666433</td>\n",
       "    </tr>\n",
       "    <tr>\n",
       "      <th>2400</th>\n",
       "      <td>-194.556918</td>\n",
       "      <td>646.040465</td>\n",
       "      <td>498.024143</td>\n",
       "      <td>-24.959052</td>\n",
       "      <td>17.224943</td>\n",
       "      <td>6.499701</td>\n",
       "      <td>-2.798422</td>\n",
       "      <td>-1.536189</td>\n",
       "      <td>-2.301093</td>\n",
       "      <td>2.532325</td>\n",
       "    </tr>\n",
       "    <tr>\n",
       "      <th>2401</th>\n",
       "      <td>-3960.384724</td>\n",
       "      <td>967.452022</td>\n",
       "      <td>368.537254</td>\n",
       "      <td>-18.335868</td>\n",
       "      <td>19.471137</td>\n",
       "      <td>10.550989</td>\n",
       "      <td>-1.092247</td>\n",
       "      <td>-1.526200</td>\n",
       "      <td>-0.536874</td>\n",
       "      <td>2.382323</td>\n",
       "    </tr>\n",
       "    <tr>\n",
       "      <th>2402</th>\n",
       "      <td>7149.294007</td>\n",
       "      <td>116.986858</td>\n",
       "      <td>-350.504251</td>\n",
       "      <td>3.377520</td>\n",
       "      <td>22.569164</td>\n",
       "      <td>-7.646096</td>\n",
       "      <td>14.719028</td>\n",
       "      <td>0.728039</td>\n",
       "      <td>0.652774</td>\n",
       "      <td>-2.655619</td>\n",
       "    </tr>\n",
       "    <tr>\n",
       "      <th>2403</th>\n",
       "      <td>-11365.275822</td>\n",
       "      <td>979.700277</td>\n",
       "      <td>-116.893510</td>\n",
       "      <td>-22.195711</td>\n",
       "      <td>3.873925</td>\n",
       "      <td>-6.688685</td>\n",
       "      <td>-7.553844</td>\n",
       "      <td>-2.850084</td>\n",
       "      <td>1.446778</td>\n",
       "      <td>-1.299458</td>\n",
       "    </tr>\n",
       "  </tbody>\n",
       "</table>\n",
       "<p>2404 rows × 10 columns</p>\n",
       "</div>"
      ],
      "text/plain": [
       "                 0            1           2          3          4          5  \\\n",
       "0      5074.368744  1036.438002  255.719963   6.404520 -30.322285  -9.347056   \n",
       "1     10505.847657   958.586554 -540.285285   2.967744   0.380848  -4.264863   \n",
       "2    -12009.607147  1089.022258  449.454207 -22.538503 -27.130721  -8.133771   \n",
       "3      8753.062547  1048.568622  561.449550 -19.598686   8.219582  -6.769216   \n",
       "4      2229.589226   995.101596 -266.070354 -13.259807  22.704397  -6.317548   \n",
       "...            ...          ...         ...        ...        ...        ...   \n",
       "2399  -7710.590627   299.297128 -113.474642 -18.118378  28.811919  -4.891376   \n",
       "2400   -194.556918   646.040465  498.024143 -24.959052  17.224943   6.499701   \n",
       "2401  -3960.384724   967.452022  368.537254 -18.335868  19.471137  10.550989   \n",
       "2402   7149.294007   116.986858 -350.504251   3.377520  22.569164  -7.646096   \n",
       "2403 -11365.275822   979.700277 -116.893510 -22.195711   3.873925  -6.688685   \n",
       "\n",
       "              6         7         8         9  \n",
       "0      2.318025  0.917661 -3.813400 -2.548957  \n",
       "1     13.775102  5.753683  7.260790 -1.117421  \n",
       "2      4.965475 -3.854162  0.138319  2.109660  \n",
       "3      0.667247  2.298263 -4.096668 -1.313752  \n",
       "4     -6.112369 -0.860113 -2.835284  2.811370  \n",
       "...         ...       ...       ...       ...  \n",
       "2399  -1.921098 -2.918096 -3.930952  2.666433  \n",
       "2400  -2.798422 -1.536189 -2.301093  2.532325  \n",
       "2401  -1.092247 -1.526200 -0.536874  2.382323  \n",
       "2402  14.719028  0.728039  0.652774 -2.655619  \n",
       "2403  -7.553844 -2.850084  1.446778 -1.299458  \n",
       "\n",
       "[2404 rows x 10 columns]"
      ]
     },
     "execution_count": 196,
     "metadata": {},
     "output_type": "execute_result"
    }
   ],
   "source": [
    "pd.DataFrame(data=x)"
   ]
  },
  {
   "cell_type": "markdown",
   "id": "c8a4c585",
   "metadata": {},
   "source": [
    "# SMOTE :"
   ]
  },
  {
   "cell_type": "markdown",
   "id": "83b0acea",
   "metadata": {},
   "source": [
    "To balance the categorical imbalance in the target variable :"
   ]
  },
  {
   "cell_type": "code",
   "execution_count": 203,
   "id": "023a681f",
   "metadata": {},
   "outputs": [],
   "source": [
    "from imblearn.over_sampling import SMOTE"
   ]
  },
  {
   "cell_type": "code",
   "execution_count": 204,
   "id": "4100d0d9",
   "metadata": {},
   "outputs": [],
   "source": [
    "data=df.drop('Attrition',axis=1)\n",
    "target=df['Attrition']"
   ]
  },
  {
   "cell_type": "code",
   "execution_count": 205,
   "id": "36803585",
   "metadata": {},
   "outputs": [],
   "source": [
    "smt=SMOTE()\n",
    "x,y=smt.fit_resample(data,target)"
   ]
  },
  {
   "cell_type": "code",
   "execution_count": 206,
   "id": "ee231400",
   "metadata": {},
   "outputs": [
    {
     "data": {
      "text/plain": [
       "0.0    1202\n",
       "1.0    1202\n",
       "Name: Attrition, dtype: int64"
      ]
     },
     "execution_count": 206,
     "metadata": {},
     "output_type": "execute_result"
    }
   ],
   "source": [
    "y.value_counts()"
   ]
  },
  {
   "cell_type": "markdown",
   "id": "ad939bbb",
   "metadata": {},
   "source": [
    "Hence the target variable is balanced."
   ]
  },
  {
   "cell_type": "markdown",
   "id": "17157602",
   "metadata": {},
   "source": [
    "# Machine Learning Models :\n",
    "Here we have a classification case, hence we'll go with Logistic Regression and various other classification models."
   ]
  },
  {
   "cell_type": "code",
   "execution_count": 207,
   "id": "a5ec58bc",
   "metadata": {},
   "outputs": [],
   "source": [
    "# Importing the necessary libraries :\n",
    "\n",
    "from sklearn.model_selection import train_test_split\n",
    "from sklearn.linear_model import LogisticRegression\n",
    "from sklearn.naive_bayes import GaussianNB\n",
    "from sklearn.tree import DecisionTreeClassifier\n",
    "from sklearn.neighbors import KNeighborsClassifier\n",
    "from sklearn.svm import SVC\n",
    "from sklearn.metrics import confusion_matrix\n",
    "from sklearn.metrics import accuracy_score\n",
    "from sklearn.metrics import classification_report\n",
    "from sklearn.model_selection import cross_val_score\n",
    "from sklearn.model_selection import GridSearchCV\n",
    "from sklearn.metrics import roc_curve, auc, roc_auc_score "
   ]
  },
  {
   "cell_type": "markdown",
   "id": "9959f129",
   "metadata": {},
   "source": [
    "# Spliting dataframe and finding best random state :"
   ]
  },
  {
   "cell_type": "code",
   "execution_count": 208,
   "id": "d3cc1595",
   "metadata": {},
   "outputs": [],
   "source": [
    "lr=LogisticRegression()"
   ]
  },
  {
   "cell_type": "code",
   "execution_count": 209,
   "id": "dc50d514",
   "metadata": {
    "scrolled": false
   },
   "outputs": [
    {
     "name": "stdout",
     "output_type": "stream",
     "text": [
      "At random state 10  The model performs very well\n",
      "At random_state:- 10\n",
      "Training accuracy_score is:- 66.92667706708268\n",
      "Testing accuracy_score is:- 66.94386694386695 \n",
      "\n",
      "\n",
      "At random state 23  The model performs very well\n",
      "At random_state:- 23\n",
      "Training accuracy_score is:- 67.96671866874675\n",
      "Testing accuracy_score is:- 67.98336798336798 \n",
      "\n",
      "\n",
      "At random state 129  The model performs very well\n",
      "At random_state:- 129\n",
      "Training accuracy_score is:- 67.44669786791472\n",
      "Testing accuracy_score is:- 67.35966735966737 \n",
      "\n",
      "\n",
      "At random state 163  The model performs very well\n",
      "At random_state:- 163\n",
      "Training accuracy_score is:- 66.87467498699948\n",
      "Testing accuracy_score is:- 66.94386694386695 \n",
      "\n",
      "\n",
      "At random state 225  The model performs very well\n",
      "At random_state:- 225\n",
      "Training accuracy_score is:- 66.92667706708268\n",
      "Testing accuracy_score is:- 66.94386694386695 \n",
      "\n",
      "\n",
      "At random state 291  The model performs very well\n",
      "At random_state:- 291\n",
      "Training accuracy_score is:- 67.81071242849714\n",
      "Testing accuracy_score is:- 67.77546777546777 \n",
      "\n",
      "\n",
      "At random state 412  The model performs very well\n",
      "At random_state:- 412\n",
      "Training accuracy_score is:- 63.59854394175767\n",
      "Testing accuracy_score is:- 63.61746361746362 \n",
      "\n",
      "\n",
      "At random state 415  The model performs very well\n",
      "At random_state:- 415\n",
      "Training accuracy_score is:- 67.44669786791472\n",
      "Testing accuracy_score is:- 67.35966735966737 \n",
      "\n",
      "\n",
      "At random state 491  The model performs very well\n",
      "At random_state:- 491\n",
      "Training accuracy_score is:- 69.37077483099324\n",
      "Testing accuracy_score is:- 69.43866943866944 \n",
      "\n",
      "\n",
      "At random state 546  The model performs very well\n",
      "At random_state:- 546\n",
      "Training accuracy_score is:- 67.75871034841394\n",
      "Testing accuracy_score is:- 67.77546777546777 \n",
      "\n",
      "\n",
      "At random state 600  The model performs very well\n",
      "At random_state:- 600\n",
      "Training accuracy_score is:- 67.2386895475819\n",
      "Testing accuracy_score is:- 67.15176715176715 \n",
      "\n",
      "\n",
      "At random state 707  The model performs very well\n",
      "At random_state:- 707\n",
      "Training accuracy_score is:- 66.87467498699948\n",
      "Testing accuracy_score is:- 66.94386694386695 \n",
      "\n",
      "\n",
      "At random state 712  The model performs very well\n",
      "At random_state:- 712\n",
      "Training accuracy_score is:- 67.60270410816432\n",
      "Testing accuracy_score is:- 67.56756756756756 \n",
      "\n",
      "\n",
      "At random state 720  The model performs very well\n",
      "At random_state:- 720\n",
      "Training accuracy_score is:- 63.80655226209049\n",
      "Testing accuracy_score is:- 63.82536382536382 \n",
      "\n",
      "\n",
      "At random state 741  The model performs very well\n",
      "At random_state:- 741\n",
      "Training accuracy_score is:- 70.51482059282371\n",
      "Testing accuracy_score is:- 70.47817047817048 \n",
      "\n",
      "\n",
      "At random state 756  The model performs very well\n",
      "At random_state:- 756\n",
      "Training accuracy_score is:- 67.75871034841394\n",
      "Testing accuracy_score is:- 67.77546777546777 \n",
      "\n",
      "\n",
      "At random state 761  The model performs very well\n",
      "At random_state:- 761\n",
      "Training accuracy_score is:- 67.81071242849714\n",
      "Testing accuracy_score is:- 67.77546777546777 \n",
      "\n",
      "\n",
      "At random state 830  The model performs very well\n",
      "At random_state:- 830\n",
      "Training accuracy_score is:- 68.64274570982839\n",
      "Testing accuracy_score is:- 68.60706860706861 \n",
      "\n",
      "\n",
      "At random state 856  The model performs very well\n",
      "At random_state:- 856\n",
      "Training accuracy_score is:- 67.44669786791472\n",
      "Testing accuracy_score is:- 67.35966735966737 \n",
      "\n",
      "\n"
     ]
    }
   ],
   "source": [
    "for i in range (0,1000):\n",
    "    x_train,x_test,y_train,y_test=train_test_split(x,y,random_state=i,test_size=0.20)\n",
    "    lr.fit(x_train,y_train)\n",
    "    pred_train=lr.predict(x_train)\n",
    "# predicting the x_train so that we can cross check how well the model is performing    \n",
    "    pred_test=lr.predict(x_test)\n",
    "    if round(accuracy_score(y_train,pred_train)*100,1)==round(accuracy_score(y_test, pred_test)*100,1):\n",
    "        print(\"At random state\",i,\" The model performs very well\")\n",
    "        print(\"At random_state:-\",i)\n",
    "        print(\"Training accuracy_score is:-\", accuracy_score(y_train, pred_train)*100)\n",
    "        print(\"Testing accuracy_score is:-\", accuracy_score(y_test, pred_test)*100, '\\n\\n')"
   ]
  },
  {
   "cell_type": "markdown",
   "id": "36bc2fc5",
   "metadata": {},
   "source": [
    "So, we have found some of the good random state values with the help of Logistic Regression, and will select the one which gives highest accuracy.\n",
    "\n",
    "741 random state with accuracy score 70.4"
   ]
  },
  {
   "cell_type": "markdown",
   "id": "1b8b0575",
   "metadata": {},
   "source": [
    "# Required Evaluation Metrices :"
   ]
  },
  {
   "cell_type": "code",
   "execution_count": 211,
   "id": "24bd750d",
   "metadata": {},
   "outputs": [],
   "source": [
    "# Spliting the dataset\n",
    "\n",
    "x_train,x_test,y_train,y_test=train_test_split(x,y,test_size=0.20,random_state=741)\n",
    "# Here 20% will be used for testing purpose and rest 80% for training purpose."
   ]
  },
  {
   "cell_type": "code",
   "execution_count": 212,
   "id": "56a4ede7",
   "metadata": {},
   "outputs": [],
   "source": [
    "# First we'll create list of all the classification models to be used\n",
    "\n",
    "models=[LogisticRegression(),\n",
    "        GaussianNB(),\n",
    "        DecisionTreeClassifier(),\n",
    "        KNeighborsClassifier(),\n",
    "        SVC(), # default kernel='rbf'\n",
    "        SVC(kernel='poly')]"
   ]
  },
  {
   "cell_type": "code",
   "execution_count": 213,
   "id": "4aa602c6",
   "metadata": {},
   "outputs": [
    {
     "name": "stdout",
     "output_type": "stream",
     "text": [
      "Accuracy score of LogisticRegression() is:\n",
      "0.7047817047817048\n",
      "[[171  62]\n",
      " [ 80 168]]\n",
      "              precision    recall  f1-score   support\n",
      "\n",
      "         0.0       0.68      0.73      0.71       233\n",
      "         1.0       0.73      0.68      0.70       248\n",
      "\n",
      "    accuracy                           0.70       481\n",
      "   macro avg       0.71      0.71      0.70       481\n",
      "weighted avg       0.71      0.70      0.70       481\n",
      "\n",
      "\n",
      "\n",
      "Accuracy score of GaussianNB() is:\n",
      "0.760914760914761\n",
      "[[164  69]\n",
      " [ 46 202]]\n",
      "              precision    recall  f1-score   support\n",
      "\n",
      "         0.0       0.78      0.70      0.74       233\n",
      "         1.0       0.75      0.81      0.78       248\n",
      "\n",
      "    accuracy                           0.76       481\n",
      "   macro avg       0.76      0.76      0.76       481\n",
      "weighted avg       0.76      0.76      0.76       481\n",
      "\n",
      "\n",
      "\n",
      "Accuracy score of DecisionTreeClassifier() is:\n",
      "0.8503118503118503\n",
      "[[197  36]\n",
      " [ 36 212]]\n",
      "              precision    recall  f1-score   support\n",
      "\n",
      "         0.0       0.85      0.85      0.85       233\n",
      "         1.0       0.85      0.85      0.85       248\n",
      "\n",
      "    accuracy                           0.85       481\n",
      "   macro avg       0.85      0.85      0.85       481\n",
      "weighted avg       0.85      0.85      0.85       481\n",
      "\n",
      "\n",
      "\n",
      "Accuracy score of KNeighborsClassifier() is:\n",
      "0.7484407484407485\n",
      "[[144  89]\n",
      " [ 32 216]]\n",
      "              precision    recall  f1-score   support\n",
      "\n",
      "         0.0       0.82      0.62      0.70       233\n",
      "         1.0       0.71      0.87      0.78       248\n",
      "\n",
      "    accuracy                           0.75       481\n",
      "   macro avg       0.76      0.74      0.74       481\n",
      "weighted avg       0.76      0.75      0.74       481\n",
      "\n",
      "\n",
      "\n",
      "Accuracy score of SVC() is:\n",
      "0.4968814968814969\n",
      "[[116 117]\n",
      " [125 123]]\n",
      "              precision    recall  f1-score   support\n",
      "\n",
      "         0.0       0.48      0.50      0.49       233\n",
      "         1.0       0.51      0.50      0.50       248\n",
      "\n",
      "    accuracy                           0.50       481\n",
      "   macro avg       0.50      0.50      0.50       481\n",
      "weighted avg       0.50      0.50      0.50       481\n",
      "\n",
      "\n",
      "\n",
      "Accuracy score of SVC(kernel='poly') is:\n",
      "0.5280665280665281\n",
      "[[211  22]\n",
      " [205  43]]\n",
      "              precision    recall  f1-score   support\n",
      "\n",
      "         0.0       0.51      0.91      0.65       233\n",
      "         1.0       0.66      0.17      0.27       248\n",
      "\n",
      "    accuracy                           0.53       481\n",
      "   macro avg       0.58      0.54      0.46       481\n",
      "weighted avg       0.59      0.53      0.46       481\n",
      "\n",
      "\n",
      "\n"
     ]
    }
   ],
   "source": [
    "for m in models:\n",
    "    m.fit(x_train,y_train)\n",
    "    m.score(x_train, y_train)\n",
    "    predm=m.predict(x_test)\n",
    "    print('Accuracy score of',m,'is:')\n",
    "    print(accuracy_score(y_test,predm))\n",
    "    print(confusion_matrix(y_test, predm))\n",
    "    print(classification_report(y_test,predm))\n",
    "    print('\\n')"
   ]
  },
  {
   "cell_type": "markdown",
   "id": "7fadd226",
   "metadata": {},
   "source": [
    "# Ensemble Techniques :"
   ]
  },
  {
   "cell_type": "code",
   "execution_count": 214,
   "id": "7d236231",
   "metadata": {},
   "outputs": [],
   "source": [
    "from sklearn.ensemble import RandomForestClassifier\n",
    "from sklearn.ensemble import AdaBoostClassifier"
   ]
  },
  {
   "cell_type": "code",
   "execution_count": 216,
   "id": "d777e520",
   "metadata": {},
   "outputs": [
    {
     "name": "stdout",
     "output_type": "stream",
     "text": [
      "Accuracy score of RandomForestClassifier(random_state=42) is:\n",
      "0.9085239085239085\n",
      "[[216  17]\n",
      " [ 27 221]]\n",
      "              precision    recall  f1-score   support\n",
      "\n",
      "         0.0       0.89      0.93      0.91       233\n",
      "         1.0       0.93      0.89      0.91       248\n",
      "\n",
      "    accuracy                           0.91       481\n",
      "   macro avg       0.91      0.91      0.91       481\n",
      "weighted avg       0.91      0.91      0.91       481\n",
      "\n"
     ]
    }
   ],
   "source": [
    "rfc=RandomForestClassifier(n_estimators=100,random_state=42)\n",
    "rfc.fit(x_train,y_train)\n",
    "predrfc=rfc.predict(x_test)\n",
    "print('Accuracy score of',rfc,'is:')\n",
    "print(accuracy_score(y_test,predrfc))\n",
    "print(confusion_matrix(y_test,predrfc))\n",
    "print(classification_report(y_test,predrfc))"
   ]
  },
  {
   "cell_type": "code",
   "execution_count": 217,
   "id": "28d1523e",
   "metadata": {},
   "outputs": [
    {
     "name": "stdout",
     "output_type": "stream",
     "text": [
      "Accuracy score of AdaBoostClassifier() is:\n",
      "0.8690228690228691\n",
      "[[203  30]\n",
      " [ 33 215]]\n",
      "              precision    recall  f1-score   support\n",
      "\n",
      "         0.0       0.86      0.87      0.87       233\n",
      "         1.0       0.88      0.87      0.87       248\n",
      "\n",
      "    accuracy                           0.87       481\n",
      "   macro avg       0.87      0.87      0.87       481\n",
      "weighted avg       0.87      0.87      0.87       481\n",
      "\n"
     ]
    }
   ],
   "source": [
    "adc=AdaBoostClassifier()\n",
    "adc.fit(x_train,y_train)\n",
    "predadc=adc.predict(x_test)\n",
    "print('Accuracy score of',adc,'is:')\n",
    "print(accuracy_score(y_test,predadc))\n",
    "print(confusion_matrix(y_test,predadc))\n",
    "print(classification_report(y_test,predadc))"
   ]
  },
  {
   "cell_type": "markdown",
   "id": "caa65d70",
   "metadata": {},
   "source": [
    "So, from above all the models, we found the highest score :\n",
    "\n",
    "    Accuracy score of RandomForestClassifier() is: 0.9085239085239085"
   ]
  },
  {
   "cell_type": "markdown",
   "id": "c6386e6a",
   "metadata": {},
   "source": [
    "# Cross validation score for RandomForestClassifier() :"
   ]
  },
  {
   "cell_type": "code",
   "execution_count": 218,
   "id": "0d9128e9",
   "metadata": {},
   "outputs": [
    {
     "name": "stdout",
     "output_type": "stream",
     "text": [
      "At cv:- 2\n",
      "Cross validation score is:- 45.9234608985025\n",
      "Accuracy score is: 90.85239085239085\n",
      "\n",
      "\n",
      "At cv:- 3\n",
      "Cross validation score is:- 60.65672273747591\n",
      "Accuracy score is: 90.85239085239085\n",
      "\n",
      "\n",
      "At cv:- 4\n",
      "Cross validation score is:- 74.79201331114808\n",
      "Accuracy score is: 90.85239085239085\n",
      "\n",
      "\n",
      "At cv:- 5\n",
      "Cross validation score is:- 80.64561677061677\n",
      "Accuracy score is: 90.85239085239085\n",
      "\n",
      "\n",
      "At cv:- 6\n",
      "Cross validation score is:- 85.35421862011637\n",
      "Accuracy score is: 90.85239085239085\n",
      "\n",
      "\n",
      "At cv:- 7\n",
      "Cross validation score is:- 88.15004407078446\n",
      "Accuracy score is: 90.85239085239085\n",
      "\n",
      "\n",
      "At cv:- 8\n",
      "Cross validation score is:- 89.48311184939092\n",
      "Accuracy score is: 90.85239085239085\n",
      "\n",
      "\n",
      "At cv:- 9\n",
      "Cross validation score is:- 90.77397034801025\n",
      "Accuracy score is: 90.85239085239085\n",
      "\n",
      "\n"
     ]
    }
   ],
   "source": [
    "rfc=RandomForestClassifier(n_estimators=100,random_state=42)\n",
    "rfc.fit(x_train,y_train)\n",
    "rfc.score(x_train, y_train)\n",
    "predrfc=rfc.predict(x_test)\n",
    "acc=accuracy_score(y_test,predrfc)\n",
    "for i in range(2,10):\n",
    "    cross=cross_val_score(rfc,x,y,cv=i)\n",
    "    cvs=cross.mean()\n",
    "    print(\"At cv:-\",i)\n",
    "    print(\"Cross validation score is:-\",cvs*100 )\n",
    "    print('Accuracy score is:', acc*100)\n",
    "    print(\"\\n\")"
   ]
  },
  {
   "cell_type": "code",
   "execution_count": 219,
   "id": "08073d56",
   "metadata": {},
   "outputs": [
    {
     "name": "stdout",
     "output_type": "stream",
     "text": [
      "The cv score is:  0.9077397034801026 \n",
      "The accuracy score is:  0.9085239085239085\n"
     ]
    }
   ],
   "source": [
    "score_selected= cross_val_score(rfc,x,y,cv=9).mean()\n",
    "print (\"The cv score is: \", score_selected, \"\\nThe accuracy score is: \",acc)"
   ]
  },
  {
   "cell_type": "markdown",
   "id": "babf3fd2",
   "metadata": {},
   "source": [
    "# Hyper Parameter Tuning :"
   ]
  },
  {
   "cell_type": "markdown",
   "id": "2b8cf455",
   "metadata": {},
   "source": [
    "Applying hyper parameter tuning using Grid Search CV method, to find the best parameters of RandomForestClassifier()"
   ]
  },
  {
   "cell_type": "code",
   "execution_count": null,
   "id": "b5d72700",
   "metadata": {},
   "outputs": [],
   "source": [
    "RandomForestClassifier(n_estimators=100,\n",
    "    criterion={\"gini\", \"entropy\"},\n",
    "    max_features={\"auto\", \"sqrt\", \"log2\"},\n",
    "    class_weight={\"balanced\", \"balanced_subsample\"})"
   ]
  },
  {
   "cell_type": "markdown",
   "id": "28d8a6cb",
   "metadata": {},
   "source": [
    "These are the some of the parameters for RandomForestClassifier(), which i found by clicking shift+tab buttons inside the function.\n",
    "\n",
    "First we have to create a dictionary of these parameters so that it can be passsed to the grid search function."
   ]
  },
  {
   "cell_type": "code",
   "execution_count": 220,
   "id": "adc91dc5",
   "metadata": {},
   "outputs": [],
   "source": [
    "params={'n_estimators':[100],\n",
    "    'criterion':[\"gini\", \"entropy\"],\n",
    "    'max_features':[\"auto\", \"sqrt\", \"log2\"],\n",
    "    'class_weight':[\"balanced\", \"balanced_subsample\"]}"
   ]
  },
  {
   "cell_type": "code",
   "execution_count": 221,
   "id": "50acbf8d",
   "metadata": {},
   "outputs": [],
   "source": [
    "grid=GridSearchCV(RandomForestClassifier(), params, cv=9)"
   ]
  },
  {
   "cell_type": "code",
   "execution_count": 222,
   "id": "64f8b3e4",
   "metadata": {},
   "outputs": [
    {
     "data": {
      "text/plain": [
       "GridSearchCV(cv=9, estimator=RandomForestClassifier(),\n",
       "             param_grid={'class_weight': ['balanced', 'balanced_subsample'],\n",
       "                         'criterion': ['gini', 'entropy'],\n",
       "                         'max_features': ['auto', 'sqrt', 'log2'],\n",
       "                         'n_estimators': [100]})"
      ]
     },
     "execution_count": 222,
     "metadata": {},
     "output_type": "execute_result"
    }
   ],
   "source": [
    "grid.fit(x_train,y_train)"
   ]
  },
  {
   "cell_type": "code",
   "execution_count": 223,
   "id": "9864ccf8",
   "metadata": {},
   "outputs": [
    {
     "data": {
      "text/plain": [
       "{'class_weight': 'balanced',\n",
       " 'criterion': 'entropy',\n",
       " 'max_features': 'sqrt',\n",
       " 'n_estimators': 100}"
      ]
     },
     "execution_count": 223,
     "metadata": {},
     "output_type": "execute_result"
    }
   ],
   "source": [
    "grid.best_params_"
   ]
  },
  {
   "cell_type": "markdown",
   "id": "68f7db35",
   "metadata": {},
   "source": [
    "So here we have found the best parameters for our model, and now we can finally train our model."
   ]
  },
  {
   "cell_type": "code",
   "execution_count": 224,
   "id": "186530ac",
   "metadata": {},
   "outputs": [],
   "source": [
    "RFC=RandomForestClassifier(class_weight='balanced',\n",
    "                           criterion='entropy',\n",
    "                           max_features='sqrt',\n",
    "                           n_estimators=100)"
   ]
  },
  {
   "cell_type": "code",
   "execution_count": 225,
   "id": "a37d208c",
   "metadata": {},
   "outputs": [
    {
     "name": "stdout",
     "output_type": "stream",
     "text": [
      "Accuracy score of RandomForestClassifier(class_weight='balanced', criterion='entropy',\n",
      "                       max_features='sqrt') is:\n",
      "0.9043659043659044\n",
      "[[219  14]\n",
      " [ 32 216]]\n",
      "              precision    recall  f1-score   support\n",
      "\n",
      "         0.0       0.87      0.94      0.90       233\n",
      "         1.0       0.94      0.87      0.90       248\n",
      "\n",
      "    accuracy                           0.90       481\n",
      "   macro avg       0.91      0.91      0.90       481\n",
      "weighted avg       0.91      0.90      0.90       481\n",
      "\n",
      "\n",
      "\n"
     ]
    }
   ],
   "source": [
    "RFC.fit(x_train,y_train)\n",
    "RFC.score(x_train, y_train)\n",
    "pred=RFC.predict(x_test)\n",
    "print('Accuracy score of',RFC,'is:')\n",
    "print(accuracy_score(y_test,pred))\n",
    "print(confusion_matrix(y_test, pred))\n",
    "print(classification_report(y_test,pred))\n",
    "print('\\n')"
   ]
  },
  {
   "cell_type": "markdown",
   "id": "5e5e54c3",
   "metadata": {},
   "source": [
    "So, this is the best model that we have achieved."
   ]
  },
  {
   "cell_type": "markdown",
   "id": "6a03705b",
   "metadata": {},
   "source": [
    "# AUC ROC Curve :"
   ]
  },
  {
   "cell_type": "code",
   "execution_count": 227,
   "id": "90d64ecc",
   "metadata": {},
   "outputs": [],
   "source": [
    "rfcpred_prob=RFC.predict_proba(x_test)[:,1]"
   ]
  },
  {
   "cell_type": "code",
   "execution_count": 228,
   "id": "6d8f6213",
   "metadata": {},
   "outputs": [],
   "source": [
    "tpr,fpr,thresholds=roc_curve(y_test,rfcpred_prob)"
   ]
  },
  {
   "cell_type": "code",
   "execution_count": 230,
   "id": "417aa8d6",
   "metadata": {},
   "outputs": [
    {
     "data": {
      "image/png": "[encoded data removed]",
      "text/plain": [
       "<Figure size 432x288 with 1 Axes>"
      ]
     },
     "metadata": {
      "needs_background": "light"
     },
     "output_type": "display_data"
    }
   ],
   "source": [
    "plt.plot(tpr,tpr,label='RandomForestClassifier')\n",
    "plt.xlabel('False positive rates')\n",
    "plt.ylabel('True positive rates')\n",
    "plt.legend(loc='best')\n",
    "plt.show()"
   ]
  },
  {
   "cell_type": "code",
   "execution_count": 231,
   "id": "1108f819",
   "metadata": {},
   "outputs": [
    {
     "name": "stdout",
     "output_type": "stream",
     "text": [
      "Random Forest Classifier 0.9601100650699155\n"
     ]
    }
   ],
   "source": [
    "print('Random Forest Classifier',roc_auc_score(y_test,rfcpred_prob))"
   ]
  },
  {
   "cell_type": "markdown",
   "id": "ea81e63f",
   "metadata": {},
   "source": [
    "# Saving the best model :"
   ]
  },
  {
   "cell_type": "code",
   "execution_count": 232,
   "id": "99b94132",
   "metadata": {},
   "outputs": [],
   "source": [
    "import pickle\n",
    "filename='Best_model_for_HRAnalytics.pkl'\n",
    "pickle.dump(RFC,open(filename,'wb'))"
   ]
  }
 ],
 "metadata": {
  "kernelspec": {
   "display_name": "Python 3",
   "language": "python",
   "name": "python3"
  },
  "language_info": {
   "codemirror_mode": {
    "name": "ipython",
    "version": 3
   },
   "file_extension": ".py",
   "mimetype": "text/x-python",
   "name": "python",
   "nbconvert_exporter": "python",
   "pygments_lexer": "ipython3",
   "version": "3.8.8"
  }
 },
 "nbformat": 4,
 "nbformat_minor": 5
}
